{
 "cells": [
  {
   "cell_type": "markdown",
   "id": "b8055730",
   "metadata": {},
   "source": [
    "##sınıf nedir? \n",
    "'''  kendisinden nesne oluşturmaya yarayan bir yapıdır  '''\n"
   ]
  },
  {
   "cell_type": "markdown",
   "id": "c6b00eaf",
   "metadata": {},
   "source": [
    "# instance(örnekleri) & attribute(sınıfın kendi özlelikleri)"
   ]
  },
  {
   "cell_type": "code",
   "execution_count": 30,
   "id": "6a28a3fe",
   "metadata": {},
   "outputs": [],
   "source": [
    "class SuperKahraman():#self i unutma. sınıfların isimleri genellikle büyük harf ile yazılır\n",
    "    \n",
    "    ozelGuc=\"görünmezlik\"\n",
    "    \n",
    "    def __init__(self,isimInput,yasInput,meslekInput): #başlatma fonksiyonu\n",
    "        print(\"init çağrıldı\")\n",
    "        self.isim=isimInput\n",
    "        self.yas=yasInput\n",
    "        self.meslek=meslekInput\n",
    "    def ornekMethod(self):\n",
    "        print(\"ben süperkahramanım ve mesleğim:  \"+self.meslek)"
   ]
  },
  {
   "cell_type": "code",
   "execution_count": 31,
   "id": "533394a2",
   "metadata": {},
   "outputs": [
    {
     "name": "stdout",
     "output_type": "stream",
     "text": [
      "init çağrıldı\n"
     ]
    }
   ],
   "source": [
    "superMan=SuperKahraman(\"Mert\",4,\"ogrenci\")"
   ]
  },
  {
   "cell_type": "code",
   "execution_count": 32,
   "id": "43c56923",
   "metadata": {},
   "outputs": [],
   "source": [
    "superMan.isim=\"Clark\""
   ]
  },
  {
   "cell_type": "code",
   "execution_count": 33,
   "id": "641a1d8d",
   "metadata": {},
   "outputs": [
    {
     "name": "stdout",
     "output_type": "stream",
     "text": [
      "4\n"
     ]
    }
   ],
   "source": [
    "print(superMan.yas)"
   ]
  },
  {
   "cell_type": "code",
   "execution_count": 34,
   "id": "93b8d4f3",
   "metadata": {},
   "outputs": [],
   "source": [
    "superMan.ozelGuc=\"uçabilmek\""
   ]
  },
  {
   "cell_type": "code",
   "execution_count": 35,
   "id": "35638697",
   "metadata": {},
   "outputs": [
    {
     "data": {
      "text/plain": [
       "'uçabilmek'"
      ]
     },
     "execution_count": 35,
     "metadata": {},
     "output_type": "execute_result"
    }
   ],
   "source": [
    "superMan.ozelGuc"
   ]
  },
  {
   "cell_type": "code",
   "execution_count": 36,
   "id": "653e4ca4",
   "metadata": {},
   "outputs": [
    {
     "name": "stdout",
     "output_type": "stream",
     "text": [
      "ben süperkahramanım ve mesleğim:  ogrenci\n"
     ]
    }
   ],
   "source": [
    "superMan.ornekMethod()"
   ]
  },
  {
   "cell_type": "code",
   "execution_count": 56,
   "id": "cdefee3b",
   "metadata": {},
   "outputs": [],
   "source": [
    "class Kopek():\n",
    "    \n",
    "    def __init__(self,yas=9): #herhangi bir değer verilmezse default olarak 9 u yasa atamak için yazılan bir kod satırıdır\n",
    "        self.yas=yas\n",
    "        \n",
    "    def kopeginInsanYasi(self):\n",
    "        return self.yas*7"
   ]
  },
  {
   "cell_type": "code",
   "execution_count": 57,
   "id": "e63b648f",
   "metadata": {},
   "outputs": [],
   "source": [
    "benimKopek=Kopek(6)"
   ]
  },
  {
   "cell_type": "code",
   "execution_count": 58,
   "id": "f6d238b9",
   "metadata": {},
   "outputs": [
    {
     "data": {
      "text/plain": [
       "6"
      ]
     },
     "execution_count": 58,
     "metadata": {},
     "output_type": "execute_result"
    }
   ],
   "source": [
    "benimKopek.yas"
   ]
  },
  {
   "cell_type": "code",
   "execution_count": 59,
   "id": "00e443cc",
   "metadata": {},
   "outputs": [
    {
     "data": {
      "text/plain": [
       "42"
      ]
     },
     "execution_count": 59,
     "metadata": {},
     "output_type": "execute_result"
    }
   ],
   "source": [
    "benimKopek.kopeginInsanYasi()"
   ]
  },
  {
   "cell_type": "markdown",
   "id": "a7822734",
   "metadata": {},
   "source": [
    "# inheritance: kalıtım alma"
   ]
  },
  {
   "cell_type": "code",
   "execution_count": 60,
   "id": "9e03835c",
   "metadata": {},
   "outputs": [],
   "source": [
    "class Hayvan():\n",
    "    def __init__(self):\n",
    "        print(\"hayvan sınıfı init çağrildi\")\n",
    "    def method1(self):\n",
    "        print(\"hayvan sınıfı method1 çağrildi\")\n",
    "    def method2(self):\n",
    "        print(\"hayvan sınıfı method2 çağrildi\")"
   ]
  },
  {
   "cell_type": "code",
   "execution_count": 61,
   "id": "958ef457",
   "metadata": {},
   "outputs": [
    {
     "name": "stdout",
     "output_type": "stream",
     "text": [
      "hayvan sınıfı init çağrildi\n"
     ]
    }
   ],
   "source": [
    "benimHayvan=Hayvan()"
   ]
  },
  {
   "cell_type": "code",
   "execution_count": 63,
   "id": "9ff9ac40",
   "metadata": {},
   "outputs": [
    {
     "name": "stdout",
     "output_type": "stream",
     "text": [
      "hayvan sınıfı method1 çağrildi\n"
     ]
    }
   ],
   "source": [
    "benimHayvan.method1()"
   ]
  },
  {
   "cell_type": "code",
   "execution_count": 64,
   "id": "86d82f40",
   "metadata": {},
   "outputs": [
    {
     "name": "stdout",
     "output_type": "stream",
     "text": [
      "hayvan sınıfı method2 çağrildi\n"
     ]
    }
   ],
   "source": [
    "benimHayvan.method2()"
   ]
  },
  {
   "cell_type": "code",
   "execution_count": 74,
   "id": "97c0254a",
   "metadata": {},
   "outputs": [],
   "source": [
    "class Kedi(Hayvan):\n",
    "    def __init__(self):\n",
    "        Hayvan.__init__(self)\n",
    "        print(\"kedi sınıfı init çağrıldı\")\n",
    "    \n",
    "    def miyavla(self):\n",
    "        print(\"miyav\")\n",
    "        \n",
    "        \n",
    "    #override    \n",
    "    def method1(self):\n",
    "        print(\"kedi sınıfı method1 çağrıldı\")"
   ]
  },
  {
   "cell_type": "code",
   "execution_count": 75,
   "id": "5cfe56c4",
   "metadata": {},
   "outputs": [
    {
     "name": "stdout",
     "output_type": "stream",
     "text": [
      "hayvan sınıfı init çağrildi\n",
      "kedi sınıfı init çağrıldı\n"
     ]
    }
   ],
   "source": [
    "benimKedi=Kedi()"
   ]
  },
  {
   "cell_type": "code",
   "execution_count": 76,
   "id": "56b2e8b0",
   "metadata": {},
   "outputs": [
    {
     "name": "stdout",
     "output_type": "stream",
     "text": [
      "kedi sınıfı method1 çağrıldı\n"
     ]
    }
   ],
   "source": [
    "benimKedi.method1()"
   ]
  },
  {
   "cell_type": "code",
   "execution_count": 78,
   "id": "4016d8fa",
   "metadata": {},
   "outputs": [
    {
     "name": "stdout",
     "output_type": "stream",
     "text": [
      "miyav\n"
     ]
    }
   ],
   "source": [
    "benimKedi.miyavla()"
   ]
  },
  {
   "cell_type": "markdown",
   "id": "7bf4c6ab",
   "metadata": {},
   "source": [
    "# Polymorphism : aynı isimde fonksiyonların aynı amaca hizmet etmesi farklı sonuçlar dönderebilmesi"
   ]
  },
  {
   "cell_type": "code",
   "execution_count": 85,
   "id": "64f7a965",
   "metadata": {},
   "outputs": [],
   "source": [
    "class Elma():\n",
    "    def __init__(self,isim):\n",
    "        self.isim=isim\n",
    "    \n",
    "    def bilgiVer(self):\n",
    "        return self.isim+\" 100 kaloridir \"\n",
    "    \n"
   ]
  },
  {
   "cell_type": "code",
   "execution_count": 86,
   "id": "47da0d41",
   "metadata": {},
   "outputs": [],
   "source": [
    "class Muz():\n",
    "    def __init__(self,isim):\n",
    "        self.isim=isim\n",
    "        \n",
    "    def bilgiVer(self):\n",
    "        return self.isim+\" 150 kaloridir\""
   ]
  },
  {
   "cell_type": "code",
   "execution_count": 87,
   "id": "cc6eb06d",
   "metadata": {},
   "outputs": [],
   "source": [
    "elma=Elma(\"elma\")"
   ]
  },
  {
   "cell_type": "code",
   "execution_count": 82,
   "id": "f1001fcc",
   "metadata": {},
   "outputs": [],
   "source": [
    "muz=Muz(\"muz\")"
   ]
  },
  {
   "cell_type": "code",
   "execution_count": 83,
   "id": "0f0c31e6",
   "metadata": {},
   "outputs": [
    {
     "data": {
      "text/plain": [
       "'elma 100 kaloridir '"
      ]
     },
     "execution_count": 83,
     "metadata": {},
     "output_type": "execute_result"
    }
   ],
   "source": [
    "elma.bilgiVer()"
   ]
  },
  {
   "cell_type": "code",
   "execution_count": 84,
   "id": "701c0c58",
   "metadata": {},
   "outputs": [
    {
     "data": {
      "text/plain": [
       "'muz 150 kaloridir'"
      ]
     },
     "execution_count": 84,
     "metadata": {},
     "output_type": "execute_result"
    }
   ],
   "source": [
    "muz.bilgiVer()"
   ]
  },
  {
   "cell_type": "code",
   "execution_count": 88,
   "id": "c2c66c20",
   "metadata": {},
   "outputs": [
    {
     "data": {
      "text/plain": [
       "__main__.Elma"
      ]
     },
     "execution_count": 88,
     "metadata": {},
     "output_type": "execute_result"
    }
   ],
   "source": [
    "type(elma)"
   ]
  },
  {
   "cell_type": "code",
   "execution_count": 90,
   "id": "16802512",
   "metadata": {},
   "outputs": [],
   "source": [
    " meyveListesi=[elma,muz]"
   ]
  },
  {
   "cell_type": "code",
   "execution_count": 94,
   "id": "67005716",
   "metadata": {},
   "outputs": [
    {
     "name": "stdout",
     "output_type": "stream",
     "text": [
      "elma 100 kaloridir \n",
      "muz 150 kaloridir\n"
     ]
    }
   ],
   "source": [
    "for meyve in meyveListesi:\n",
    "    print(meyve.bilgiVer())"
   ]
  },
  {
   "cell_type": "code",
   "execution_count": null,
   "id": "313c8eaa",
   "metadata": {},
   "outputs": [],
   "source": []
  },
  {
   "cell_type": "code",
   "execution_count": null,
   "id": "61095cf7",
   "metadata": {},
   "outputs": [],
   "source": []
  }
 ],
 "metadata": {
  "kernelspec": {
   "display_name": "Python 3 (ipykernel)",
   "language": "python",
   "name": "python3"
  },
  "language_info": {
   "codemirror_mode": {
    "name": "ipython",
    "version": 3
   },
   "file_extension": ".py",
   "mimetype": "text/x-python",
   "name": "python",
   "nbconvert_exporter": "python",
   "pygments_lexer": "ipython3",
   "version": "3.9.7"
  }
 },
 "nbformat": 4,
 "nbformat_minor": 5
}
