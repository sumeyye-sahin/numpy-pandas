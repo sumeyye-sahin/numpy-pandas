{
 "cells": [
  {
   "cell_type": "code",
   "execution_count": 1,
   "id": "a5203516",
   "metadata": {},
   "outputs": [],
   "source": [
    "import numpy as np"
   ]
  },
  {
   "cell_type": "markdown",
   "id": "971c2d7d",
   "metadata": {},
   "source": [
    "# numpy array"
   ]
  },
  {
   "cell_type": "code",
   "execution_count": 2,
   "id": "b11b15c4",
   "metadata": {},
   "outputs": [],
   "source": [
    "benimListem=[20,30,40]"
   ]
  },
  {
   "cell_type": "code",
   "execution_count": 3,
   "id": "da3a8568",
   "metadata": {},
   "outputs": [
    {
     "data": {
      "text/plain": [
       "list"
      ]
     },
     "execution_count": 3,
     "metadata": {},
     "output_type": "execute_result"
    }
   ],
   "source": [
    "type(benimListem)"
   ]
  },
  {
   "cell_type": "code",
   "execution_count": 4,
   "id": "6663b9a0",
   "metadata": {},
   "outputs": [
    {
     "data": {
      "text/plain": [
       "array([20, 30, 40])"
      ]
     },
     "execution_count": 4,
     "metadata": {},
     "output_type": "execute_result"
    }
   ],
   "source": [
    "np.array(benimListem)"
   ]
  },
  {
   "cell_type": "code",
   "execution_count": 5,
   "id": "4a73ae88",
   "metadata": {},
   "outputs": [],
   "source": [
    "matrixListesi=[[10,20,30],[40,50,60],[70,80,90]]"
   ]
  },
  {
   "cell_type": "code",
   "execution_count": 6,
   "id": "6e3dd69b",
   "metadata": {},
   "outputs": [
    {
     "data": {
      "text/plain": [
       "list"
      ]
     },
     "execution_count": 6,
     "metadata": {},
     "output_type": "execute_result"
    }
   ],
   "source": [
    "type(matrixListesi)"
   ]
  },
  {
   "cell_type": "code",
   "execution_count": 10,
   "id": "bf0adc16",
   "metadata": {},
   "outputs": [
    {
     "data": {
      "text/plain": [
       "80"
      ]
     },
     "execution_count": 10,
     "metadata": {},
     "output_type": "execute_result"
    }
   ],
   "source": [
    "matrixListesi[2][1]"
   ]
  },
  {
   "cell_type": "code",
   "execution_count": 11,
   "id": "dd86c7c6",
   "metadata": {},
   "outputs": [
    {
     "data": {
      "text/plain": [
       "array([[10, 20, 30],\n",
       "       [40, 50, 60],\n",
       "       [70, 80, 90]])"
      ]
     },
     "execution_count": 11,
     "metadata": {},
     "output_type": "execute_result"
    }
   ],
   "source": [
    "np.array(matrixListesi)"
   ]
  },
  {
   "cell_type": "code",
   "execution_count": 17,
   "id": "5731789b",
   "metadata": {},
   "outputs": [],
   "source": [
    "yeniList=list(range(0,10,2))"
   ]
  },
  {
   "cell_type": "code",
   "execution_count": 18,
   "id": "2386c45a",
   "metadata": {},
   "outputs": [
    {
     "data": {
      "text/plain": [
       "[0, 2, 4, 6, 8]"
      ]
     },
     "execution_count": 18,
     "metadata": {},
     "output_type": "execute_result"
    }
   ],
   "source": [
    "yeniList"
   ]
  },
  {
   "cell_type": "code",
   "execution_count": 19,
   "id": "0c89e9a6",
   "metadata": {},
   "outputs": [
    {
     "name": "stdout",
     "output_type": "stream",
     "text": [
      "0\n",
      "2\n",
      "4\n",
      "6\n",
      "8\n"
     ]
    }
   ],
   "source": [
    "for i in yeniList:\n",
    "    print(i)"
   ]
  },
  {
   "cell_type": "code",
   "execution_count": 20,
   "id": "e8ac056b",
   "metadata": {},
   "outputs": [
    {
     "data": {
      "text/plain": [
       "4"
      ]
     },
     "execution_count": 20,
     "metadata": {},
     "output_type": "execute_result"
    }
   ],
   "source": [
    "yeniList[2]"
   ]
  },
  {
   "cell_type": "code",
   "execution_count": 21,
   "id": "eaa9884e",
   "metadata": {},
   "outputs": [
    {
     "name": "stdout",
     "output_type": "stream",
     "text": [
      "[0, 2, 4, 6, 8]\n"
     ]
    }
   ],
   "source": [
    "print(yeniList)"
   ]
  },
  {
   "cell_type": "markdown",
   "id": "a6324747",
   "metadata": {},
   "source": [
    "# arange . arange ve linspace çok önemli"
   ]
  },
  {
   "cell_type": "code",
   "execution_count": 24,
   "id": "efeb24b1",
   "metadata": {},
   "outputs": [
    {
     "data": {
      "text/plain": [
       "array([0, 2, 4, 6, 8])"
      ]
     },
     "execution_count": 24,
     "metadata": {},
     "output_type": "execute_result"
    }
   ],
   "source": [
    "np.arange(0,10,2)"
   ]
  },
  {
   "cell_type": "markdown",
   "id": "af47eaa1",
   "metadata": {},
   "source": [
    "# zeros"
   ]
  },
  {
   "cell_type": "code",
   "execution_count": 25,
   "id": "ea4dac19",
   "metadata": {},
   "outputs": [
    {
     "data": {
      "text/plain": [
       "array([0., 0., 0., 0., 0.])"
      ]
     },
     "execution_count": 25,
     "metadata": {},
     "output_type": "execute_result"
    }
   ],
   "source": [
    "np.zeros(5)"
   ]
  },
  {
   "cell_type": "code",
   "execution_count": 26,
   "id": "a4f01713",
   "metadata": {},
   "outputs": [
    {
     "data": {
      "text/plain": [
       "array([[0., 0., 0.],\n",
       "       [0., 0., 0.],\n",
       "       [0., 0., 0.],\n",
       "       [0., 0., 0.],\n",
       "       [0., 0., 0.]])"
      ]
     },
     "execution_count": 26,
     "metadata": {},
     "output_type": "execute_result"
    }
   ],
   "source": [
    "np.zeros((5,3))"
   ]
  },
  {
   "cell_type": "markdown",
   "id": "b5342f00",
   "metadata": {},
   "source": [
    "# ones"
   ]
  },
  {
   "cell_type": "code",
   "execution_count": 28,
   "id": "9dca126d",
   "metadata": {},
   "outputs": [
    {
     "data": {
      "text/plain": [
       "array([[1., 1., 1., 1.],\n",
       "       [1., 1., 1., 1.]])"
      ]
     },
     "execution_count": 28,
     "metadata": {},
     "output_type": "execute_result"
    }
   ],
   "source": [
    "np.ones((2,4))"
   ]
  },
  {
   "cell_type": "markdown",
   "id": "8cc00ac0",
   "metadata": {},
   "source": [
    "# linspace :belirttiğiniz numaralar araısnda eşit aralık bırakarak bir dizi oluşturur. verilen aralığı, verilen sayı kadar böler ve aralığı eşit parçalar olacak şekilde ayarlar"
   ]
  },
  {
   "cell_type": "code",
   "execution_count": 30,
   "id": "05c6abd5",
   "metadata": {},
   "outputs": [
    {
     "data": {
      "text/plain": [
       "array([ 0.        ,  3.33333333,  6.66666667, 10.        , 13.33333333,\n",
       "       16.66666667, 20.        ])"
      ]
     },
     "execution_count": 30,
     "metadata": {},
     "output_type": "execute_result"
    }
   ],
   "source": [
    "np.linspace(0,20,7)"
   ]
  },
  {
   "cell_type": "code",
   "execution_count": 33,
   "id": "52836a17",
   "metadata": {},
   "outputs": [
    {
     "data": {
      "text/plain": [
       "array([  0.        ,   0.33444816,   0.66889632,   1.00334448,\n",
       "         1.33779264,   1.6722408 ,   2.00668896,   2.34113712,\n",
       "         2.67558528,   3.01003344,   3.34448161,   3.67892977,\n",
       "         4.01337793,   4.34782609,   4.68227425,   5.01672241,\n",
       "         5.35117057,   5.68561873,   6.02006689,   6.35451505,\n",
       "         6.68896321,   7.02341137,   7.35785953,   7.69230769,\n",
       "         8.02675585,   8.36120401,   8.69565217,   9.03010033,\n",
       "         9.36454849,   9.69899666,  10.03344482,  10.36789298,\n",
       "        10.70234114,  11.0367893 ,  11.37123746,  11.70568562,\n",
       "        12.04013378,  12.37458194,  12.7090301 ,  13.04347826,\n",
       "        13.37792642,  13.71237458,  14.04682274,  14.3812709 ,\n",
       "        14.71571906,  15.05016722,  15.38461538,  15.71906355,\n",
       "        16.05351171,  16.38795987,  16.72240803,  17.05685619,\n",
       "        17.39130435,  17.72575251,  18.06020067,  18.39464883,\n",
       "        18.72909699,  19.06354515,  19.39799331,  19.73244147,\n",
       "        20.06688963,  20.40133779,  20.73578595,  21.07023411,\n",
       "        21.40468227,  21.73913043,  22.0735786 ,  22.40802676,\n",
       "        22.74247492,  23.07692308,  23.41137124,  23.7458194 ,\n",
       "        24.08026756,  24.41471572,  24.74916388,  25.08361204,\n",
       "        25.4180602 ,  25.75250836,  26.08695652,  26.42140468,\n",
       "        26.75585284,  27.090301  ,  27.42474916,  27.75919732,\n",
       "        28.09364548,  28.42809365,  28.76254181,  29.09698997,\n",
       "        29.43143813,  29.76588629,  30.10033445,  30.43478261,\n",
       "        30.76923077,  31.10367893,  31.43812709,  31.77257525,\n",
       "        32.10702341,  32.44147157,  32.77591973,  33.11036789,\n",
       "        33.44481605,  33.77926421,  34.11371237,  34.44816054,\n",
       "        34.7826087 ,  35.11705686,  35.45150502,  35.78595318,\n",
       "        36.12040134,  36.4548495 ,  36.78929766,  37.12374582,\n",
       "        37.45819398,  37.79264214,  38.1270903 ,  38.46153846,\n",
       "        38.79598662,  39.13043478,  39.46488294,  39.7993311 ,\n",
       "        40.13377926,  40.46822742,  40.80267559,  41.13712375,\n",
       "        41.47157191,  41.80602007,  42.14046823,  42.47491639,\n",
       "        42.80936455,  43.14381271,  43.47826087,  43.81270903,\n",
       "        44.14715719,  44.48160535,  44.81605351,  45.15050167,\n",
       "        45.48494983,  45.81939799,  46.15384615,  46.48829431,\n",
       "        46.82274247,  47.15719064,  47.4916388 ,  47.82608696,\n",
       "        48.16053512,  48.49498328,  48.82943144,  49.1638796 ,\n",
       "        49.49832776,  49.83277592,  50.16722408,  50.50167224,\n",
       "        50.8361204 ,  51.17056856,  51.50501672,  51.83946488,\n",
       "        52.17391304,  52.5083612 ,  52.84280936,  53.17725753,\n",
       "        53.51170569,  53.84615385,  54.18060201,  54.51505017,\n",
       "        54.84949833,  55.18394649,  55.51839465,  55.85284281,\n",
       "        56.18729097,  56.52173913,  56.85618729,  57.19063545,\n",
       "        57.52508361,  57.85953177,  58.19397993,  58.52842809,\n",
       "        58.86287625,  59.19732441,  59.53177258,  59.86622074,\n",
       "        60.2006689 ,  60.53511706,  60.86956522,  61.20401338,\n",
       "        61.53846154,  61.8729097 ,  62.20735786,  62.54180602,\n",
       "        62.87625418,  63.21070234,  63.5451505 ,  63.87959866,\n",
       "        64.21404682,  64.54849498,  64.88294314,  65.2173913 ,\n",
       "        65.55183946,  65.88628763,  66.22073579,  66.55518395,\n",
       "        66.88963211,  67.22408027,  67.55852843,  67.89297659,\n",
       "        68.22742475,  68.56187291,  68.89632107,  69.23076923,\n",
       "        69.56521739,  69.89966555,  70.23411371,  70.56856187,\n",
       "        70.90301003,  71.23745819,  71.57190635,  71.90635452,\n",
       "        72.24080268,  72.57525084,  72.909699  ,  73.24414716,\n",
       "        73.57859532,  73.91304348,  74.24749164,  74.5819398 ,\n",
       "        74.91638796,  75.25083612,  75.58528428,  75.91973244,\n",
       "        76.2541806 ,  76.58862876,  76.92307692,  77.25752508,\n",
       "        77.59197324,  77.9264214 ,  78.26086957,  78.59531773,\n",
       "        78.92976589,  79.26421405,  79.59866221,  79.93311037,\n",
       "        80.26755853,  80.60200669,  80.93645485,  81.27090301,\n",
       "        81.60535117,  81.93979933,  82.27424749,  82.60869565,\n",
       "        82.94314381,  83.27759197,  83.61204013,  83.94648829,\n",
       "        84.28093645,  84.61538462,  84.94983278,  85.28428094,\n",
       "        85.6187291 ,  85.95317726,  86.28762542,  86.62207358,\n",
       "        86.95652174,  87.2909699 ,  87.62541806,  87.95986622,\n",
       "        88.29431438,  88.62876254,  88.9632107 ,  89.29765886,\n",
       "        89.63210702,  89.96655518,  90.30100334,  90.63545151,\n",
       "        90.96989967,  91.30434783,  91.63879599,  91.97324415,\n",
       "        92.30769231,  92.64214047,  92.97658863,  93.31103679,\n",
       "        93.64548495,  93.97993311,  94.31438127,  94.64882943,\n",
       "        94.98327759,  95.31772575,  95.65217391,  95.98662207,\n",
       "        96.32107023,  96.65551839,  96.98996656,  97.32441472,\n",
       "        97.65886288,  97.99331104,  98.3277592 ,  98.66220736,\n",
       "        98.99665552,  99.33110368,  99.66555184, 100.        ])"
      ]
     },
     "execution_count": 33,
     "metadata": {},
     "output_type": "execute_result"
    }
   ],
   "source": [
    "np.linspace(0,100,300)"
   ]
  },
  {
   "cell_type": "markdown",
   "id": "6b1a5371",
   "metadata": {},
   "source": [
    "# eye"
   ]
  },
  {
   "cell_type": "code",
   "execution_count": 35,
   "id": "def79042",
   "metadata": {},
   "outputs": [
    {
     "data": {
      "text/plain": [
       "array([[1., 0., 0., 0., 0., 0., 0., 0.],\n",
       "       [0., 1., 0., 0., 0., 0., 0., 0.],\n",
       "       [0., 0., 1., 0., 0., 0., 0., 0.],\n",
       "       [0., 0., 0., 1., 0., 0., 0., 0.],\n",
       "       [0., 0., 0., 0., 1., 0., 0., 0.],\n",
       "       [0., 0., 0., 0., 0., 1., 0., 0.],\n",
       "       [0., 0., 0., 0., 0., 0., 1., 0.],\n",
       "       [0., 0., 0., 0., 0., 0., 0., 1.]])"
      ]
     },
     "execution_count": 35,
     "metadata": {},
     "output_type": "execute_result"
    }
   ],
   "source": [
    "np.eye(8)"
   ]
  },
  {
   "cell_type": "markdown",
   "id": "1113673f",
   "metadata": {},
   "source": [
    "# random\n"
   ]
  },
  {
   "cell_type": "code",
   "execution_count": 40,
   "id": "d5dff832",
   "metadata": {},
   "outputs": [
    {
     "data": {
      "text/plain": [
       "array([[ 0.1780858 , -1.61304451],\n",
       "       [ 0.59866795, -0.18658005],\n",
       "       [ 0.66100734, -1.792521  ],\n",
       "       [ 0.14259039,  0.14856761]])"
      ]
     },
     "execution_count": 40,
     "metadata": {},
     "output_type": "execute_result"
    }
   ],
   "source": [
    "np.random.randn(4,2)"
   ]
  },
  {
   "cell_type": "code",
   "execution_count": 41,
   "id": "f43db57d",
   "metadata": {},
   "outputs": [
    {
     "data": {
      "text/plain": [
       "8"
      ]
     },
     "execution_count": 41,
     "metadata": {},
     "output_type": "execute_result"
    }
   ],
   "source": [
    "np.random.randint(1,10)"
   ]
  },
  {
   "cell_type": "code",
   "execution_count": 42,
   "id": "0954abba",
   "metadata": {},
   "outputs": [
    {
     "data": {
      "text/plain": [
       "array([18, 22, 10, 18, 13, 24, 20,  8])"
      ]
     },
     "execution_count": 42,
     "metadata": {},
     "output_type": "execute_result"
    }
   ],
   "source": [
    "np.random.randint(0,25,8)"
   ]
  },
  {
   "cell_type": "markdown",
   "id": "e7378513",
   "metadata": {},
   "source": [
    "# numpy dizi methodları"
   ]
  },
  {
   "cell_type": "code",
   "execution_count": 44,
   "id": "c4b38c2e",
   "metadata": {},
   "outputs": [],
   "source": [
    "benimNumpyDizim=np.arange(30)"
   ]
  },
  {
   "cell_type": "code",
   "execution_count": 45,
   "id": "c89e4a89",
   "metadata": {},
   "outputs": [
    {
     "data": {
      "text/plain": [
       "array([ 0,  1,  2,  3,  4,  5,  6,  7,  8,  9, 10, 11, 12, 13, 14, 15, 16,\n",
       "       17, 18, 19, 20, 21, 22, 23, 24, 25, 26, 27, 28, 29])"
      ]
     },
     "execution_count": 45,
     "metadata": {},
     "output_type": "execute_result"
    }
   ],
   "source": [
    "benimNumpyDizim"
   ]
  },
  {
   "cell_type": "code",
   "execution_count": 60,
   "id": "55b62e5c",
   "metadata": {},
   "outputs": [],
   "source": [
    "benimRandomDizim=np.random.randint(0,100,30)"
   ]
  },
  {
   "cell_type": "code",
   "execution_count": 61,
   "id": "1bff3065",
   "metadata": {},
   "outputs": [
    {
     "data": {
      "text/plain": [
       "array([77, 33, 62, 72, 58, 36, 95, 47, 88, 79, 71, 85, 92, 76, 66, 49, 52,\n",
       "       74, 68, 17, 45, 10, 63, 74, 42, 53, 76, 27, 80, 61])"
      ]
     },
     "execution_count": 61,
     "metadata": {},
     "output_type": "execute_result"
    }
   ],
   "source": [
    "benimRandomDizim"
   ]
  },
  {
   "cell_type": "code",
   "execution_count": 62,
   "id": "ed4768f2",
   "metadata": {},
   "outputs": [
    {
     "data": {
      "text/plain": [
       "array([[ 0,  1,  2,  3,  4,  5],\n",
       "       [ 6,  7,  8,  9, 10, 11],\n",
       "       [12, 13, 14, 15, 16, 17],\n",
       "       [18, 19, 20, 21, 22, 23],\n",
       "       [24, 25, 26, 27, 28, 29]])"
      ]
     },
     "execution_count": 62,
     "metadata": {},
     "output_type": "execute_result"
    }
   ],
   "source": [
    "benimNumpyDizim.reshape(5,6) # 5*6=30 , 30 eleman olduğu için hata vermedi"
   ]
  },
  {
   "cell_type": "code",
   "execution_count": 63,
   "id": "6cb7b01a",
   "metadata": {},
   "outputs": [
    {
     "data": {
      "text/plain": [
       "29"
      ]
     },
     "execution_count": 63,
     "metadata": {},
     "output_type": "execute_result"
    }
   ],
   "source": [
    "benimNumpyDizim.max()"
   ]
  },
  {
   "cell_type": "code",
   "execution_count": 64,
   "id": "db6dfd4a",
   "metadata": {},
   "outputs": [
    {
     "data": {
      "text/plain": [
       "95"
      ]
     },
     "execution_count": 64,
     "metadata": {},
     "output_type": "execute_result"
    }
   ],
   "source": [
    "benimRandomDizim.max()"
   ]
  },
  {
   "cell_type": "code",
   "execution_count": 65,
   "id": "38a79be4",
   "metadata": {},
   "outputs": [
    {
     "data": {
      "text/plain": [
       "10"
      ]
     },
     "execution_count": 65,
     "metadata": {},
     "output_type": "execute_result"
    }
   ],
   "source": [
    "benimRandomDizim.min()"
   ]
  },
  {
   "cell_type": "code",
   "execution_count": 66,
   "id": "47ffea5d",
   "metadata": {},
   "outputs": [
    {
     "data": {
      "text/plain": [
       "array([[77, 33, 62, 72, 58, 36],\n",
       "       [95, 47, 88, 79, 71, 85],\n",
       "       [92, 76, 66, 49, 52, 74],\n",
       "       [68, 17, 45, 10, 63, 74],\n",
       "       [42, 53, 76, 27, 80, 61]])"
      ]
     },
     "execution_count": 66,
     "metadata": {},
     "output_type": "execute_result"
    }
   ],
   "source": [
    "benimRandomDizim.reshape(5,6)"
   ]
  },
  {
   "cell_type": "code",
   "execution_count": 67,
   "id": "ad9f0ce2",
   "metadata": {},
   "outputs": [
    {
     "data": {
      "text/plain": [
       "6"
      ]
     },
     "execution_count": 67,
     "metadata": {},
     "output_type": "execute_result"
    }
   ],
   "source": [
    "benimRandomDizim.argmax() # max sayının hangi indiste olduğunu dönderir"
   ]
  },
  {
   "cell_type": "code",
   "execution_count": 68,
   "id": "a6647c34",
   "metadata": {},
   "outputs": [
    {
     "data": {
      "text/plain": [
       "21"
      ]
     },
     "execution_count": 68,
     "metadata": {},
     "output_type": "execute_result"
    }
   ],
   "source": [
    "benimRandomDizim.argmin() # min sayının indisini dönderir"
   ]
  },
  {
   "cell_type": "code",
   "execution_count": 69,
   "id": "38762ba8",
   "metadata": {},
   "outputs": [
    {
     "data": {
      "text/plain": [
       "(30,)"
      ]
     },
     "execution_count": 69,
     "metadata": {},
     "output_type": "execute_result"
    }
   ],
   "source": [
    "benimNumpyDizim.shape"
   ]
  },
  {
   "cell_type": "code",
   "execution_count": 70,
   "id": "c15718a9",
   "metadata": {},
   "outputs": [],
   "source": [
    "reshapeDizim=benimRandomDizim.reshape(5,6)"
   ]
  },
  {
   "cell_type": "code",
   "execution_count": 71,
   "id": "39d9c432",
   "metadata": {},
   "outputs": [
    {
     "data": {
      "text/plain": [
       "(5, 6)"
      ]
     },
     "execution_count": 71,
     "metadata": {},
     "output_type": "execute_result"
    }
   ],
   "source": [
    "reshapeDizim.shape"
   ]
  },
  {
   "cell_type": "code",
   "execution_count": null,
   "id": "4d6490bd",
   "metadata": {},
   "outputs": [],
   "source": []
  }
 ],
 "metadata": {
  "kernelspec": {
   "display_name": "Python 3 (ipykernel)",
   "language": "python",
   "name": "python3"
  },
  "language_info": {
   "codemirror_mode": {
    "name": "ipython",
    "version": 3
   },
   "file_extension": ".py",
   "mimetype": "text/x-python",
   "name": "python",
   "nbconvert_exporter": "python",
   "pygments_lexer": "ipython3",
   "version": "3.9.7"
  }
 },
 "nbformat": 4,
 "nbformat_minor": 5
}
