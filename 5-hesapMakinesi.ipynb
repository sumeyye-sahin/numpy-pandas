{
 "cells": [
  {
   "cell_type": "code",
   "execution_count": null,
   "id": "f7dc359f",
   "metadata": {},
   "outputs": [
    {
     "name": "stdout",
     "output_type": "stream",
     "text": [
      "birinci sayıyı giriniz: 10\n",
      "ikinci sayıyı giriniz: iü\n",
      "Sayıları düzgün giriniz: \n",
      "birinci sayıyı giriniz: 45\n",
      "ikinci sayıyı giriniz: 45\n",
      "işlem seçiniz: -+/* +\n",
      "45 + 45 = 90\n",
      "birinci sayıyı giriniz: 89\n",
      "ikinci sayıyı giriniz: 85\n",
      "işlem seçiniz: -+/* ş.ş\n",
      "lütfen sadece şu işlemleri seçiniz: +-/* \n",
      "None\n",
      "Sayıları düzgün giriniz: \n"
     ]
    }
   ],
   "source": [
    "def hesapla(a,b,islem):\n",
    "    if islem not in \"+-/*\":\n",
    "        print(\"lütfen sadece şu işlemleri seçiniz: +-/* \")\n",
    "    if islem == \"+\":\n",
    "        return str(a)+\" + \"+str(b)+\" = \"+str(a+b)\n",
    "    if islem == \"-\":\n",
    "        return str(a)+\" - \"+str(b)+\" = \"+str(a-b)\n",
    "    if islem == \"/\":\n",
    "        return str(a)+\" / \"+str(b)+\" = \"+str(a/b)\n",
    "    if islem == \"*\":\n",
    "        return str(a)+\" * \"+str(b)+\" = \"+str(a*b)\n",
    "\n",
    "while True:\n",
    "    try:\n",
    "        a=int(input(\"birinci sayıyı giriniz: \"))\n",
    "        b=int(input(\"ikinci sayıyı giriniz: \"))\n",
    "        islem=input(\"işlem seçiniz: -+/* \")\n",
    "        print(hesapla(a,b,islem))\n",
    "    except:\n",
    "        print(\"Sayıları düzgün giriniz: \")"
   ]
  },
  {
   "cell_type": "code",
   "execution_count": null,
   "id": "d72c1365",
   "metadata": {},
   "outputs": [],
   "source": []
  }
 ],
 "metadata": {
  "kernelspec": {
   "display_name": "Python 3 (ipykernel)",
   "language": "python",
   "name": "python3"
  },
  "language_info": {
   "codemirror_mode": {
    "name": "ipython",
    "version": 3
   },
   "file_extension": ".py",
   "mimetype": "text/x-python",
   "name": "python",
   "nbconvert_exporter": "python",
   "pygments_lexer": "ipython3",
   "version": "3.9.7"
  }
 },
 "nbformat": 4,
 "nbformat_minor": 5
}
