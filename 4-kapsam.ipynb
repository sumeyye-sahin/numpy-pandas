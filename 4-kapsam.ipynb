{
 "cells": [
  {
   "cell_type": "markdown",
   "id": "87011b3a",
   "metadata": {},
   "source": [
    "## scope  . local, enclosing, global, build-in"
   ]
  },
  {
   "cell_type": "code",
   "execution_count": 1,
   "id": "39eac318",
   "metadata": {},
   "outputs": [],
   "source": [
    "y=10\n",
    "#Global değişken \n",
    "\n",
    "def yeniFonksiyon(y):\n",
    "    y=y+4 \n",
    "    #enclosing\n",
    "    def icFonksiyon(y):\n",
    "        y=y*2\n",
    "        #local\n",
    "        print(y)\n",
    "    icFonksiyon(y)"
   ]
  },
  {
   "cell_type": "code",
   "execution_count": 2,
   "id": "ca6c23a8",
   "metadata": {},
   "outputs": [
    {
     "name": "stdout",
     "output_type": "stream",
     "text": [
      "10\n"
     ]
    }
   ],
   "source": [
    "print(y)"
   ]
  },
  {
   "cell_type": "code",
   "execution_count": 3,
   "id": "4f261062",
   "metadata": {},
   "outputs": [
    {
     "name": "stdout",
     "output_type": "stream",
     "text": [
      "18\n"
     ]
    }
   ],
   "source": [
    "yeniFonksiyon(5)"
   ]
  },
  {
   "cell_type": "code",
   "execution_count": 4,
   "id": "3c9de692",
   "metadata": {},
   "outputs": [],
   "source": [
    "# eğer global y yi fonksiyon içinde değiştirmek istersek başına global yazmamız yeterli\n",
    "# x ile örnek yapılmıştır\n"
   ]
  },
  {
   "cell_type": "code",
   "execution_count": 22,
   "id": "a18ac9d5",
   "metadata": {},
   "outputs": [],
   "source": [
    "x=8\n",
    "\n",
    "def benimFonksiyonum():\n",
    "    global x\n",
    "    x=x+5\n",
    "    return x"
   ]
  },
  {
   "cell_type": "code",
   "execution_count": 23,
   "id": "9e2e43f9",
   "metadata": {},
   "outputs": [
    {
     "data": {
      "text/plain": [
       "13"
      ]
     },
     "execution_count": 23,
     "metadata": {},
     "output_type": "execute_result"
    }
   ],
   "source": [
    "benimFonksiyonum()"
   ]
  },
  {
   "cell_type": "code",
   "execution_count": 24,
   "id": "d39b7d6c",
   "metadata": {},
   "outputs": [
    {
     "name": "stdout",
     "output_type": "stream",
     "text": [
      "13\n"
     ]
    }
   ],
   "source": [
    "print(x)"
   ]
  },
  {
   "cell_type": "code",
   "execution_count": null,
   "id": "69056dfa",
   "metadata": {},
   "outputs": [],
   "source": []
  }
 ],
 "metadata": {
  "kernelspec": {
   "display_name": "Python 3 (ipykernel)",
   "language": "python",
   "name": "python3"
  },
  "language_info": {
   "codemirror_mode": {
    "name": "ipython",
    "version": 3
   },
   "file_extension": ".py",
   "mimetype": "text/x-python",
   "name": "python",
   "nbconvert_exporter": "python",
   "pygments_lexer": "ipython3",
   "version": "3.9.7"
  }
 },
 "nbformat": 4,
 "nbformat_minor": 5
}
