{
 "cells": [
  {
   "cell_type": "code",
   "execution_count": 2,
   "id": "7a92b655",
   "metadata": {},
   "outputs": [],
   "source": [
    "import numpy as np\n",
    "import pandas as pd"
   ]
  },
  {
   "cell_type": "markdown",
   "id": "885163c9",
   "metadata": {},
   "source": [
    "## series/seriler"
   ]
  },
  {
   "cell_type": "code",
   "execution_count": 3,
   "id": "176efcea",
   "metadata": {},
   "outputs": [],
   "source": [
    "benimSozlugum={\"atil\":50,\"zeynep\": 40,\"mehmet\":30}"
   ]
  },
  {
   "cell_type": "code",
   "execution_count": 4,
   "id": "0919280e",
   "metadata": {},
   "outputs": [
    {
     "data": {
      "text/plain": [
       "atil      50\n",
       "zeynep    40\n",
       "mehmet    30\n",
       "dtype: int64"
      ]
     },
     "execution_count": 4,
     "metadata": {},
     "output_type": "execute_result"
    }
   ],
   "source": [
    "pd.Series(benimSozlugum)"
   ]
  },
  {
   "cell_type": "code",
   "execution_count": 5,
   "id": "7069c674",
   "metadata": {},
   "outputs": [
    {
     "data": {
      "text/plain": [
       "pandas.core.series.Series"
      ]
     },
     "execution_count": 5,
     "metadata": {},
     "output_type": "execute_result"
    }
   ],
   "source": [
    "type(pd.Series(benimSozlugum))"
   ]
  },
  {
   "cell_type": "code",
   "execution_count": 6,
   "id": "c2d3866e",
   "metadata": {},
   "outputs": [],
   "source": [
    "benimYaslarim=[50,40,30]\n",
    "benimIsimlerim=[\"atil\",\"zeynep\",\"mehmet\"]"
   ]
  },
  {
   "cell_type": "code",
   "execution_count": 7,
   "id": "b1ed516c",
   "metadata": {},
   "outputs": [
    {
     "data": {
      "text/plain": [
       "atil      50\n",
       "zeynep    40\n",
       "mehmet    30\n",
       "dtype: int64"
      ]
     },
     "execution_count": 7,
     "metadata": {},
     "output_type": "execute_result"
    }
   ],
   "source": [
    "pd.Series(data=benimYaslarim,index=benimIsimlerim)"
   ]
  },
  {
   "cell_type": "code",
   "execution_count": 8,
   "id": "947cea44",
   "metadata": {},
   "outputs": [],
   "source": [
    "numpyDizisi=np.array([50,40,30])"
   ]
  },
  {
   "cell_type": "code",
   "execution_count": 9,
   "id": "f1438ad5",
   "metadata": {},
   "outputs": [
    {
     "data": {
      "text/plain": [
       "array([50, 40, 30])"
      ]
     },
     "execution_count": 9,
     "metadata": {},
     "output_type": "execute_result"
    }
   ],
   "source": [
    "numpyDizisi"
   ]
  },
  {
   "cell_type": "code",
   "execution_count": 10,
   "id": "6b105f51",
   "metadata": {},
   "outputs": [
    {
     "data": {
      "text/plain": [
       "0    50\n",
       "1    40\n",
       "2    30\n",
       "dtype: int32"
      ]
     },
     "execution_count": 10,
     "metadata": {},
     "output_type": "execute_result"
    }
   ],
   "source": [
    "pd.Series(numpyDizisi)"
   ]
  },
  {
   "cell_type": "code",
   "execution_count": 11,
   "id": "ebd20248",
   "metadata": {},
   "outputs": [
    {
     "data": {
      "text/plain": [
       "atil      50\n",
       "zeynep    40\n",
       "mehmet    30\n",
       "dtype: int32"
      ]
     },
     "execution_count": 11,
     "metadata": {},
     "output_type": "execute_result"
    }
   ],
   "source": [
    "pd.Series(numpyDizisi,benimIsimlerim)"
   ]
  },
  {
   "cell_type": "code",
   "execution_count": 12,
   "id": "a13ecaf2",
   "metadata": {},
   "outputs": [],
   "source": [
    "yarismaSonucu1=pd.Series([10,5,2],[\"Sümeyye\",\"Fatma\",\"Ayşe\"])"
   ]
  },
  {
   "cell_type": "code",
   "execution_count": 13,
   "id": "9ba80a75",
   "metadata": {},
   "outputs": [],
   "source": [
    "yarismaSonucu2=pd.Series([20,14,16],[\"Sümeyye\",\"Fatma\",\"Ayşe\"])"
   ]
  },
  {
   "cell_type": "code",
   "execution_count": 14,
   "id": "9f3bc48c",
   "metadata": {},
   "outputs": [],
   "source": [
    "sonSonuc=yarismaSonucu1+ yarismaSonucu2"
   ]
  },
  {
   "cell_type": "code",
   "execution_count": 15,
   "id": "a7c5f767",
   "metadata": {},
   "outputs": [
    {
     "data": {
      "text/plain": [
       "Sümeyye    30\n",
       "Fatma      19\n",
       "Ayşe       18\n",
       "dtype: int64"
      ]
     },
     "execution_count": 15,
     "metadata": {},
     "output_type": "execute_result"
    }
   ],
   "source": [
    "sonSonuc"
   ]
  },
  {
   "cell_type": "code",
   "execution_count": 18,
   "id": "c08142b3",
   "metadata": {},
   "outputs": [],
   "source": [
    "ortakKumbara1=pd.Series([10,5,2,8],[\"Sümeyye\",\"Fatma\",\"Ayşe\",\"Özge\"])"
   ]
  },
  {
   "cell_type": "code",
   "execution_count": 20,
   "id": "2a8b0d6b",
   "metadata": {},
   "outputs": [],
   "source": [
    "ortakKumbara2=pd.Series([20,14],[\"Sümeyye\",\"Ayşe\"])"
   ]
  },
  {
   "cell_type": "code",
   "execution_count": 21,
   "id": "c6fb732c",
   "metadata": {},
   "outputs": [],
   "source": [
    "toplamPara=ortakKumbara1+ ortakKumbara2"
   ]
  },
  {
   "cell_type": "code",
   "execution_count": 22,
   "id": "2df1c321",
   "metadata": {},
   "outputs": [
    {
     "data": {
      "text/plain": [
       "Ayşe       16.0\n",
       "Fatma       NaN\n",
       "Sümeyye    30.0\n",
       "Özge        NaN\n",
       "dtype: float64"
      ]
     },
     "execution_count": 22,
     "metadata": {},
     "output_type": "execute_result"
    }
   ],
   "source": [
    "toplamPara"
   ]
  },
  {
   "cell_type": "code",
   "execution_count": null,
   "id": "03433dd1",
   "metadata": {},
   "outputs": [],
   "source": []
  }
 ],
 "metadata": {
  "kernelspec": {
   "display_name": "Python 3 (ipykernel)",
   "language": "python",
   "name": "python3"
  },
  "language_info": {
   "codemirror_mode": {
    "name": "ipython",
    "version": 3
   },
   "file_extension": ".py",
   "mimetype": "text/x-python",
   "name": "python",
   "nbconvert_exporter": "python",
   "pygments_lexer": "ipython3",
   "version": "3.9.7"
  }
 },
 "nbformat": 4,
 "nbformat_minor": 5
}
