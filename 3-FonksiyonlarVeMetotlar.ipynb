{
 "cells": [
  {
   "cell_type": "code",
   "execution_count": 1,
   "id": "05971ec7",
   "metadata": {},
   "outputs": [
    {
     "data": {
      "text/plain": [
       "'SÜMEYYE ŞAHIN'"
      ]
     },
     "execution_count": 1,
     "metadata": {},
     "output_type": "execute_result"
    }
   ],
   "source": [
    "benimAdim=\"Sümeyye Şahin\"\n",
    "benimAdim.upper()"
   ]
  },
  {
   "cell_type": "code",
   "execution_count": 3,
   "id": "1f3cca51",
   "metadata": {},
   "outputs": [
    {
     "data": {
      "text/plain": [
       "'sümeyye şahin'"
      ]
     },
     "execution_count": 3,
     "metadata": {},
     "output_type": "execute_result"
    }
   ],
   "source": [
    "benimAdim.lower()"
   ]
  },
  {
   "cell_type": "code",
   "execution_count": 11,
   "id": "b12191e9",
   "metadata": {},
   "outputs": [
    {
     "data": {
      "text/plain": [
       "'SümeDye Şahin'"
      ]
     },
     "execution_count": 11,
     "metadata": {},
     "output_type": "execute_result"
    }
   ],
   "source": [
    "benimAdim.replace('y','D',1)"
   ]
  },
  {
   "cell_type": "code",
   "execution_count": 13,
   "id": "07ac9a6a",
   "metadata": {},
   "outputs": [
    {
     "name": "stdout",
     "output_type": "stream",
     "text": [
      "Help on built-in function lower:\n",
      "\n",
      "lower() method of builtins.str instance\n",
      "    Return a copy of the string converted to lowercase.\n",
      "\n"
     ]
    }
   ],
   "source": [
    "help(benimAdim.lower)"
   ]
  },
  {
   "cell_type": "code",
   "execution_count": 14,
   "id": "4d04073f",
   "metadata": {},
   "outputs": [
    {
     "name": "stdout",
     "output_type": "stream",
     "text": [
      "Sümeyye Şahin\n"
     ]
    }
   ],
   "source": [
    "print(benimAdim)"
   ]
  },
  {
   "cell_type": "code",
   "execution_count": 15,
   "id": "b2dcaf9a",
   "metadata": {},
   "outputs": [],
   "source": [
    "def fonksiyon():\n",
    "    print(\"bu fonksiyon çalışıyor\")"
   ]
  },
  {
   "cell_type": "code",
   "execution_count": 16,
   "id": "d96cec2f",
   "metadata": {},
   "outputs": [
    {
     "name": "stdout",
     "output_type": "stream",
     "text": [
      "bu fonksiyon çalışıyor\n"
     ]
    }
   ],
   "source": [
    "fonksiyon()"
   ]
  },
  {
   "cell_type": "markdown",
   "id": "2074cb86",
   "metadata": {},
   "source": [
    "# input & return"
   ]
  },
  {
   "cell_type": "code",
   "execution_count": 19,
   "id": "9ff887d9",
   "metadata": {},
   "outputs": [],
   "source": [
    "def merhabaDunya(yazdiralacakİsim=\" \"):\n",
    "    print(\"Merhaba\")\n",
    "    print(yazdiralacakİsim)\n",
    "    "
   ]
  },
  {
   "cell_type": "code",
   "execution_count": 18,
   "id": "a39da5ab",
   "metadata": {},
   "outputs": [
    {
     "name": "stdout",
     "output_type": "stream",
     "text": [
      "Merhaba\n",
      "sümeyye\n"
     ]
    }
   ],
   "source": [
    "merhabaDunya(\"sümeyye\")"
   ]
  },
  {
   "cell_type": "code",
   "execution_count": 20,
   "id": "275467a7",
   "metadata": {},
   "outputs": [
    {
     "name": "stdout",
     "output_type": "stream",
     "text": [
      "Merhaba\n",
      " \n"
     ]
    }
   ],
   "source": [
    " merhabaDunya()"
   ]
  },
  {
   "cell_type": "code",
   "execution_count": 21,
   "id": "c132b75e",
   "metadata": {},
   "outputs": [
    {
     "name": "stdout",
     "output_type": "stream",
     "text": [
      "Merhaba\n",
      "nasılsın\n"
     ]
    }
   ],
   "source": [
    "merhabaDunya(\"nasılsın\")"
   ]
  },
  {
   "cell_type": "code",
   "execution_count": 22,
   "id": "2bf6772f",
   "metadata": {},
   "outputs": [],
   "source": [
    "def toplama(num1,num2):\n",
    "    return num1+num2"
   ]
  },
  {
   "cell_type": "code",
   "execution_count": 24,
   "id": "d6288aec",
   "metadata": {},
   "outputs": [
    {
     "name": "stdout",
     "output_type": "stream",
     "text": [
      "268\n"
     ]
    }
   ],
   "source": [
    "print(toplama(10,258))"
   ]
  },
  {
   "cell_type": "markdown",
   "id": "cbc88396",
   "metadata": {},
   "source": [
    "# args & kwargs"
   ]
  },
  {
   "cell_type": "code",
   "execution_count": 31,
   "id": "b110003f",
   "metadata": {},
   "outputs": [],
   "source": [
    "def yeni(*args):\n",
    "    return args #tuple değer dönderiyor"
   ]
  },
  {
   "cell_type": "code",
   "execution_count": 32,
   "id": "53915cfa",
   "metadata": {},
   "outputs": [
    {
     "data": {
      "text/plain": [
       "202"
      ]
     },
     "execution_count": 32,
     "metadata": {},
     "output_type": "execute_result"
    }
   ],
   "source": [
    "yeniToplama(10,20,52,85,35)"
   ]
  },
  {
   "cell_type": "code",
   "execution_count": 33,
   "id": "80226aae",
   "metadata": {},
   "outputs": [
    {
     "data": {
      "text/plain": [
       "tuple"
      ]
     },
     "execution_count": 33,
     "metadata": {},
     "output_type": "execute_result"
    }
   ],
   "source": [
    " type(yeni(10,20,52,85,35))"
   ]
  },
  {
   "cell_type": "code",
   "execution_count": 34,
   "id": "50f60400",
   "metadata": {},
   "outputs": [],
   "source": [
    "def yeni2(**kwargs):\n",
    "    return(kwargs) # dict değer dönderiyor  "
   ]
  },
  {
   "cell_type": "code",
   "execution_count": 36,
   "id": "eca71bfe",
   "metadata": {},
   "outputs": [
    {
     "data": {
      "text/plain": [
       "dict"
      ]
     },
     "execution_count": 36,
     "metadata": {},
     "output_type": "execute_result"
    }
   ],
   "source": [
    "type(yeni2(muz=10,elma=52,erik=36))"
   ]
  },
  {
   "cell_type": "code",
   "execution_count": 57,
   "id": "72f81488",
   "metadata": {},
   "outputs": [],
   "source": [
    "def bul(**kwargs):\n",
    "    if \"sümeyye\" in kwargs: print(\"sümeyye var\")\n",
    "    else : print(\"sümeyye yok\")"
   ]
  },
  {
   "cell_type": "code",
   "execution_count": 58,
   "id": "3a774a3f",
   "metadata": {},
   "outputs": [
    {
     "name": "stdout",
     "output_type": "stream",
     "text": [
      "sümeyye var\n"
     ]
    }
   ],
   "source": [
    "bul(sümeyye=18,emre=30,dilek=32)"
   ]
  },
  {
   "cell_type": "code",
   "execution_count": 1,
   "id": "6fd91825",
   "metadata": {},
   "outputs": [],
   "source": [
    "def bolme(eleman):\n",
    "    return eleman/2"
   ]
  },
  {
   "cell_type": "code",
   "execution_count": 2,
   "id": "903a97ae",
   "metadata": {},
   "outputs": [],
   "source": [
    "yeniDizi=[]\n",
    "b1=[1,2,3,4,5,6,7,8,9,10]\n",
    "for eleman in b1:\n",
    "  yeniDizi.append(bolme(eleman))\n"
   ]
  },
  {
   "cell_type": "code",
   "execution_count": 3,
   "id": "b8550748",
   "metadata": {},
   "outputs": [
    {
     "data": {
      "text/plain": [
       "[0.5, 1.0, 1.5, 2.0, 2.5, 3.0, 3.5, 4.0, 4.5, 5.0]"
      ]
     },
     "execution_count": 3,
     "metadata": {},
     "output_type": "execute_result"
    }
   ],
   "source": [
    "yeniDizi"
   ]
  },
  {
   "cell_type": "markdown",
   "id": "78c40ce7",
   "metadata": {},
   "source": [
    "# map => list(map(fonksiyon,parametre)  yapıldığı zaman fonksiyona parametreyi gönderip değeri liste şeklinde tutabiliyor map sayesinde , tek satırda. true ya da false deger dönderiyor"
   ]
  },
  {
   "cell_type": "code",
   "execution_count": 6,
   "id": "0652611b",
   "metadata": {},
   "outputs": [
    {
     "data": {
      "text/plain": [
       "[0.5, 1.0, 1.5, 2.0, 2.5, 3.0, 3.5, 4.0, 4.5, 5.0]"
      ]
     },
     "execution_count": 6,
     "metadata": {},
     "output_type": "execute_result"
    }
   ],
   "source": [
    "list(map(bolme,b1)) "
   ]
  },
  {
   "cell_type": "code",
   "execution_count": 13,
   "id": "03a5d402",
   "metadata": {},
   "outputs": [],
   "source": [
    "def harfKontrol(kelime):\n",
    "    return \"a\" in kelime.lower()"
   ]
  },
  {
   "cell_type": "code",
   "execution_count": 15,
   "id": "ad6e9c89",
   "metadata": {},
   "outputs": [
    {
     "data": {
      "text/plain": [
       "True"
      ]
     },
     "execution_count": 15,
     "metadata": {},
     "output_type": "execute_result"
    }
   ],
   "source": [
    "harfKontrol(\"sedA\")"
   ]
  },
  {
   "cell_type": "code",
   "execution_count": 16,
   "id": "0e4c9b46",
   "metadata": {},
   "outputs": [],
   "source": [
    "listeBir=[\"sümeyye\",\"şahin\",\"ahmet\",\"emre\",\"mustafa\"]"
   ]
  },
  {
   "cell_type": "code",
   "execution_count": 17,
   "id": "3bface0d",
   "metadata": {},
   "outputs": [
    {
     "data": {
      "text/plain": [
       "[False, True, True, False, True]"
      ]
     },
     "execution_count": 17,
     "metadata": {},
     "output_type": "execute_result"
    }
   ],
   "source": [
    "list(map(harfKontrol,listeBir))"
   ]
  },
  {
   "cell_type": "code",
   "execution_count": 18,
   "id": "fbf3a78f",
   "metadata": {},
   "outputs": [],
   "source": [
    "kayitliListe=list(map(harfKontrol,listeBir))"
   ]
  },
  {
   "cell_type": "code",
   "execution_count": 19,
   "id": "a36e515d",
   "metadata": {},
   "outputs": [
    {
     "data": {
      "text/plain": [
       "3"
      ]
     },
     "execution_count": 19,
     "metadata": {},
     "output_type": "execute_result"
    }
   ],
   "source": [
    "kayitliListe.count(True)"
   ]
  },
  {
   "cell_type": "markdown",
   "id": "d4a9dd10",
   "metadata": {},
   "source": [
    "#  filter fonksiyonu map gibi fakat map ten farkı fonksiyonun sonucu true olanları dönderiyor"
   ]
  },
  {
   "cell_type": "code",
   "execution_count": 21,
   "id": "4029d61d",
   "metadata": {},
   "outputs": [
    {
     "data": {
      "text/plain": [
       "['şahin', 'ahmet', 'mustafa']"
      ]
     },
     "execution_count": 21,
     "metadata": {},
     "output_type": "execute_result"
    }
   ],
   "source": [
    "list(filter(harfKontrol,listeBir))"
   ]
  },
  {
   "cell_type": "markdown",
   "id": "4a638808",
   "metadata": {},
   "source": [
    "## lambda fonksiyonları tek satorda değişken gibi yazmak için kullanılır"
   ]
  },
  {
   "cell_type": "code",
   "execution_count": 22,
   "id": "15200eae",
   "metadata": {},
   "outputs": [
    {
     "data": {
      "text/plain": [
       "48"
      ]
     },
     "execution_count": 22,
     "metadata": {},
     "output_type": "execute_result"
    }
   ],
   "source": [
    "toplamaa = lambda sayi:sayi+3\n",
    "toplamaa(45)"
   ]
  },
  {
   "cell_type": "code",
   "execution_count": 23,
   "id": "158caea1",
   "metadata": {},
   "outputs": [
    {
     "data": {
      "text/plain": [
       "[40, 80, 120]"
      ]
     },
     "execution_count": 23,
     "metadata": {},
     "output_type": "execute_result"
    }
   ],
   "source": [
    "ornekListesi=[10,20,30]\n",
    "list(map(lambda sayi:sayi*4, ornekListesi))"
   ]
  },
  {
   "cell_type": "code",
   "execution_count": null,
   "id": "149bc7c1",
   "metadata": {},
   "outputs": [],
   "source": []
  }
 ],
 "metadata": {
  "kernelspec": {
   "display_name": "Python 3 (ipykernel)",
   "language": "python",
   "name": "python3"
  },
  "language_info": {
   "codemirror_mode": {
    "name": "ipython",
    "version": 3
   },
   "file_extension": ".py",
   "mimetype": "text/x-python",
   "name": "python",
   "nbconvert_exporter": "python",
   "pygments_lexer": "ipython3",
   "version": "3.9.7"
  }
 },
 "nbformat": 4,
 "nbformat_minor": 5
}
