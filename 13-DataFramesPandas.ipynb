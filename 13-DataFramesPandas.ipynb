{
 "cells": [
  {
   "cell_type": "code",
   "execution_count": 1,
   "id": "3a9ea910",
   "metadata": {},
   "outputs": [],
   "source": [
    "import pandas as pd\n",
    "import numpy as np"
   ]
  },
  {
   "cell_type": "code",
   "execution_count": 2,
   "id": "293a8747",
   "metadata": {},
   "outputs": [],
   "source": [
    "data=np.random.randn(4,3)"
   ]
  },
  {
   "cell_type": "code",
   "execution_count": 3,
   "id": "f61d72ca",
   "metadata": {},
   "outputs": [
    {
     "data": {
      "text/plain": [
       "array([[ 1.08686167, -0.80142667, -0.54736404],\n",
       "       [-0.25822504,  0.34200827,  0.28538197],\n",
       "       [ 0.4392417 , -0.90680412, -0.52953856],\n",
       "       [-0.70917187,  0.92217777, -0.28013655]])"
      ]
     },
     "execution_count": 3,
     "metadata": {},
     "output_type": "execute_result"
    }
   ],
   "source": [
    "data"
   ]
  },
  {
   "cell_type": "code",
   "execution_count": 4,
   "id": "0645b2e8",
   "metadata": {},
   "outputs": [],
   "source": [
    "dataFrame=pd.DataFrame(data)"
   ]
  },
  {
   "cell_type": "code",
   "execution_count": 5,
   "id": "e1b50415",
   "metadata": {},
   "outputs": [
    {
     "data": {
      "text/html": [
       "<div>\n",
       "<style scoped>\n",
       "    .dataframe tbody tr th:only-of-type {\n",
       "        vertical-align: middle;\n",
       "    }\n",
       "\n",
       "    .dataframe tbody tr th {\n",
       "        vertical-align: top;\n",
       "    }\n",
       "\n",
       "    .dataframe thead th {\n",
       "        text-align: right;\n",
       "    }\n",
       "</style>\n",
       "<table border=\"1\" class=\"dataframe\">\n",
       "  <thead>\n",
       "    <tr style=\"text-align: right;\">\n",
       "      <th></th>\n",
       "      <th>0</th>\n",
       "      <th>1</th>\n",
       "      <th>2</th>\n",
       "    </tr>\n",
       "  </thead>\n",
       "  <tbody>\n",
       "    <tr>\n",
       "      <th>0</th>\n",
       "      <td>1.086862</td>\n",
       "      <td>-0.801427</td>\n",
       "      <td>-0.547364</td>\n",
       "    </tr>\n",
       "    <tr>\n",
       "      <th>1</th>\n",
       "      <td>-0.258225</td>\n",
       "      <td>0.342008</td>\n",
       "      <td>0.285382</td>\n",
       "    </tr>\n",
       "    <tr>\n",
       "      <th>2</th>\n",
       "      <td>0.439242</td>\n",
       "      <td>-0.906804</td>\n",
       "      <td>-0.529539</td>\n",
       "    </tr>\n",
       "    <tr>\n",
       "      <th>3</th>\n",
       "      <td>-0.709172</td>\n",
       "      <td>0.922178</td>\n",
       "      <td>-0.280137</td>\n",
       "    </tr>\n",
       "  </tbody>\n",
       "</table>\n",
       "</div>"
      ],
      "text/plain": [
       "          0         1         2\n",
       "0  1.086862 -0.801427 -0.547364\n",
       "1 -0.258225  0.342008  0.285382\n",
       "2  0.439242 -0.906804 -0.529539\n",
       "3 -0.709172  0.922178 -0.280137"
      ]
     },
     "execution_count": 5,
     "metadata": {},
     "output_type": "execute_result"
    }
   ],
   "source": [
    "dataFrame"
   ]
  },
  {
   "cell_type": "code",
   "execution_count": 6,
   "id": "5be24d01",
   "metadata": {},
   "outputs": [
    {
     "data": {
      "text/plain": [
       "pandas.core.frame.DataFrame"
      ]
     },
     "execution_count": 6,
     "metadata": {},
     "output_type": "execute_result"
    }
   ],
   "source": [
    "type(dataFrame)"
   ]
  },
  {
   "cell_type": "code",
   "execution_count": 7,
   "id": "48bf364e",
   "metadata": {},
   "outputs": [
    {
     "data": {
      "text/plain": [
       "0    1.086862\n",
       "1   -0.258225\n",
       "2    0.439242\n",
       "3   -0.709172\n",
       "Name: 0, dtype: float64"
      ]
     },
     "execution_count": 7,
     "metadata": {},
     "output_type": "execute_result"
    }
   ],
   "source": [
    "dataFrame[0]"
   ]
  },
  {
   "cell_type": "code",
   "execution_count": 8,
   "id": "76fd429e",
   "metadata": {},
   "outputs": [
    {
     "data": {
      "text/plain": [
       "pandas.core.series.Series"
      ]
     },
     "execution_count": 8,
     "metadata": {},
     "output_type": "execute_result"
    }
   ],
   "source": [
    "type(dataFrame[0])"
   ]
  },
  {
   "cell_type": "code",
   "execution_count": 9,
   "id": "d271057e",
   "metadata": {},
   "outputs": [],
   "source": [
    "yeniDataFrame=pd.DataFrame(data,index=[\"a\",\"b\",\"c\",\"d\"],columns=[\"yas\",\"maas\",\"calisma saati\"])"
   ]
  },
  {
   "cell_type": "code",
   "execution_count": 10,
   "id": "52255a0c",
   "metadata": {},
   "outputs": [
    {
     "data": {
      "text/html": [
       "<div>\n",
       "<style scoped>\n",
       "    .dataframe tbody tr th:only-of-type {\n",
       "        vertical-align: middle;\n",
       "    }\n",
       "\n",
       "    .dataframe tbody tr th {\n",
       "        vertical-align: top;\n",
       "    }\n",
       "\n",
       "    .dataframe thead th {\n",
       "        text-align: right;\n",
       "    }\n",
       "</style>\n",
       "<table border=\"1\" class=\"dataframe\">\n",
       "  <thead>\n",
       "    <tr style=\"text-align: right;\">\n",
       "      <th></th>\n",
       "      <th>yas</th>\n",
       "      <th>maas</th>\n",
       "      <th>calisma saati</th>\n",
       "    </tr>\n",
       "  </thead>\n",
       "  <tbody>\n",
       "    <tr>\n",
       "      <th>a</th>\n",
       "      <td>1.086862</td>\n",
       "      <td>-0.801427</td>\n",
       "      <td>-0.547364</td>\n",
       "    </tr>\n",
       "    <tr>\n",
       "      <th>b</th>\n",
       "      <td>-0.258225</td>\n",
       "      <td>0.342008</td>\n",
       "      <td>0.285382</td>\n",
       "    </tr>\n",
       "    <tr>\n",
       "      <th>c</th>\n",
       "      <td>0.439242</td>\n",
       "      <td>-0.906804</td>\n",
       "      <td>-0.529539</td>\n",
       "    </tr>\n",
       "    <tr>\n",
       "      <th>d</th>\n",
       "      <td>-0.709172</td>\n",
       "      <td>0.922178</td>\n",
       "      <td>-0.280137</td>\n",
       "    </tr>\n",
       "  </tbody>\n",
       "</table>\n",
       "</div>"
      ],
      "text/plain": [
       "        yas      maas  calisma saati\n",
       "a  1.086862 -0.801427      -0.547364\n",
       "b -0.258225  0.342008       0.285382\n",
       "c  0.439242 -0.906804      -0.529539\n",
       "d -0.709172  0.922178      -0.280137"
      ]
     },
     "execution_count": 10,
     "metadata": {},
     "output_type": "execute_result"
    }
   ],
   "source": [
    "yeniDataFrame"
   ]
  },
  {
   "cell_type": "code",
   "execution_count": 11,
   "id": "a1ed4519",
   "metadata": {},
   "outputs": [
    {
     "data": {
      "text/plain": [
       "a    1.086862\n",
       "b   -0.258225\n",
       "c    0.439242\n",
       "d   -0.709172\n",
       "Name: yas, dtype: float64"
      ]
     },
     "execution_count": 11,
     "metadata": {},
     "output_type": "execute_result"
    }
   ],
   "source": [
    "yeniDataFrame[\"yas\"]"
   ]
  },
  {
   "cell_type": "code",
   "execution_count": 12,
   "id": "ca9a612f",
   "metadata": {},
   "outputs": [
    {
     "data": {
      "text/html": [
       "<div>\n",
       "<style scoped>\n",
       "    .dataframe tbody tr th:only-of-type {\n",
       "        vertical-align: middle;\n",
       "    }\n",
       "\n",
       "    .dataframe tbody tr th {\n",
       "        vertical-align: top;\n",
       "    }\n",
       "\n",
       "    .dataframe thead th {\n",
       "        text-align: right;\n",
       "    }\n",
       "</style>\n",
       "<table border=\"1\" class=\"dataframe\">\n",
       "  <thead>\n",
       "    <tr style=\"text-align: right;\">\n",
       "      <th></th>\n",
       "      <th>maas</th>\n",
       "      <th>yas</th>\n",
       "    </tr>\n",
       "  </thead>\n",
       "  <tbody>\n",
       "    <tr>\n",
       "      <th>a</th>\n",
       "      <td>-0.801427</td>\n",
       "      <td>1.086862</td>\n",
       "    </tr>\n",
       "    <tr>\n",
       "      <th>b</th>\n",
       "      <td>0.342008</td>\n",
       "      <td>-0.258225</td>\n",
       "    </tr>\n",
       "    <tr>\n",
       "      <th>c</th>\n",
       "      <td>-0.906804</td>\n",
       "      <td>0.439242</td>\n",
       "    </tr>\n",
       "    <tr>\n",
       "      <th>d</th>\n",
       "      <td>0.922178</td>\n",
       "      <td>-0.709172</td>\n",
       "    </tr>\n",
       "  </tbody>\n",
       "</table>\n",
       "</div>"
      ],
      "text/plain": [
       "       maas       yas\n",
       "a -0.801427  1.086862\n",
       "b  0.342008 -0.258225\n",
       "c -0.906804  0.439242\n",
       "d  0.922178 -0.709172"
      ]
     },
     "execution_count": 12,
     "metadata": {},
     "output_type": "execute_result"
    }
   ],
   "source": [
    "yeniDataFrame[[\"maas\",\"yas\"]]"
   ]
  },
  {
   "cell_type": "code",
   "execution_count": 13,
   "id": "258e0820",
   "metadata": {},
   "outputs": [
    {
     "data": {
      "text/plain": [
       "yas              0.439242\n",
       "maas            -0.906804\n",
       "calisma saati   -0.529539\n",
       "Name: c, dtype: float64"
      ]
     },
     "execution_count": 13,
     "metadata": {},
     "output_type": "execute_result"
    }
   ],
   "source": [
    "#sutundan bilgi almak için loc ve iloc u kullanırız\n",
    "yeniDataFrame.loc[\"c\"]"
   ]
  },
  {
   "cell_type": "code",
   "execution_count": 14,
   "id": "372119da",
   "metadata": {},
   "outputs": [
    {
     "data": {
      "text/plain": [
       "yas             -0.258225\n",
       "maas             0.342008\n",
       "calisma saati    0.285382\n",
       "Name: b, dtype: float64"
      ]
     },
     "execution_count": 14,
     "metadata": {},
     "output_type": "execute_result"
    }
   ],
   "source": [
    "yeniDataFrame.iloc[1]"
   ]
  },
  {
   "cell_type": "code",
   "execution_count": 15,
   "id": "200d7e77",
   "metadata": {},
   "outputs": [
    {
     "data": {
      "text/plain": [
       "a   -0.801427\n",
       "b    0.342008\n",
       "c   -0.906804\n",
       "d    0.922178\n",
       "Name: maas, dtype: float64"
      ]
     },
     "execution_count": 15,
     "metadata": {},
     "output_type": "execute_result"
    }
   ],
   "source": [
    "yeniDataFrame[\"maas\"]"
   ]
  },
  {
   "cell_type": "code",
   "execution_count": 16,
   "id": "63749f61",
   "metadata": {},
   "outputs": [],
   "source": [
    "yeniDataFrame[\"Emekli Yasi\"]=yeniDataFrame[\"yas\"]*2 #yeni kolon ekleme"
   ]
  },
  {
   "cell_type": "code",
   "execution_count": 17,
   "id": "f0ed3296",
   "metadata": {},
   "outputs": [
    {
     "data": {
      "text/html": [
       "<div>\n",
       "<style scoped>\n",
       "    .dataframe tbody tr th:only-of-type {\n",
       "        vertical-align: middle;\n",
       "    }\n",
       "\n",
       "    .dataframe tbody tr th {\n",
       "        vertical-align: top;\n",
       "    }\n",
       "\n",
       "    .dataframe thead th {\n",
       "        text-align: right;\n",
       "    }\n",
       "</style>\n",
       "<table border=\"1\" class=\"dataframe\">\n",
       "  <thead>\n",
       "    <tr style=\"text-align: right;\">\n",
       "      <th></th>\n",
       "      <th>yas</th>\n",
       "      <th>maas</th>\n",
       "      <th>calisma saati</th>\n",
       "      <th>Emekli Yasi</th>\n",
       "    </tr>\n",
       "  </thead>\n",
       "  <tbody>\n",
       "    <tr>\n",
       "      <th>a</th>\n",
       "      <td>1.086862</td>\n",
       "      <td>-0.801427</td>\n",
       "      <td>-0.547364</td>\n",
       "      <td>2.173723</td>\n",
       "    </tr>\n",
       "    <tr>\n",
       "      <th>b</th>\n",
       "      <td>-0.258225</td>\n",
       "      <td>0.342008</td>\n",
       "      <td>0.285382</td>\n",
       "      <td>-0.516450</td>\n",
       "    </tr>\n",
       "    <tr>\n",
       "      <th>c</th>\n",
       "      <td>0.439242</td>\n",
       "      <td>-0.906804</td>\n",
       "      <td>-0.529539</td>\n",
       "      <td>0.878483</td>\n",
       "    </tr>\n",
       "    <tr>\n",
       "      <th>d</th>\n",
       "      <td>-0.709172</td>\n",
       "      <td>0.922178</td>\n",
       "      <td>-0.280137</td>\n",
       "      <td>-1.418344</td>\n",
       "    </tr>\n",
       "  </tbody>\n",
       "</table>\n",
       "</div>"
      ],
      "text/plain": [
       "        yas      maas  calisma saati  Emekli Yasi\n",
       "a  1.086862 -0.801427      -0.547364     2.173723\n",
       "b -0.258225  0.342008       0.285382    -0.516450\n",
       "c  0.439242 -0.906804      -0.529539     0.878483\n",
       "d -0.709172  0.922178      -0.280137    -1.418344"
      ]
     },
     "execution_count": 17,
     "metadata": {},
     "output_type": "execute_result"
    }
   ],
   "source": [
    "yeniDataFrame"
   ]
  },
  {
   "cell_type": "code",
   "execution_count": 18,
   "id": "0a406a9c",
   "metadata": {},
   "outputs": [],
   "source": [
    "yeniDataFrame[\"tarih\"]=[\"2010\",\"2015\",\"2012\",2015]"
   ]
  },
  {
   "cell_type": "code",
   "execution_count": 19,
   "id": "13fb2a79",
   "metadata": {},
   "outputs": [
    {
     "data": {
      "text/html": [
       "<div>\n",
       "<style scoped>\n",
       "    .dataframe tbody tr th:only-of-type {\n",
       "        vertical-align: middle;\n",
       "    }\n",
       "\n",
       "    .dataframe tbody tr th {\n",
       "        vertical-align: top;\n",
       "    }\n",
       "\n",
       "    .dataframe thead th {\n",
       "        text-align: right;\n",
       "    }\n",
       "</style>\n",
       "<table border=\"1\" class=\"dataframe\">\n",
       "  <thead>\n",
       "    <tr style=\"text-align: right;\">\n",
       "      <th></th>\n",
       "      <th>yas</th>\n",
       "      <th>maas</th>\n",
       "      <th>calisma saati</th>\n",
       "      <th>Emekli Yasi</th>\n",
       "      <th>tarih</th>\n",
       "    </tr>\n",
       "  </thead>\n",
       "  <tbody>\n",
       "    <tr>\n",
       "      <th>a</th>\n",
       "      <td>1.086862</td>\n",
       "      <td>-0.801427</td>\n",
       "      <td>-0.547364</td>\n",
       "      <td>2.173723</td>\n",
       "      <td>2010</td>\n",
       "    </tr>\n",
       "    <tr>\n",
       "      <th>b</th>\n",
       "      <td>-0.258225</td>\n",
       "      <td>0.342008</td>\n",
       "      <td>0.285382</td>\n",
       "      <td>-0.516450</td>\n",
       "      <td>2015</td>\n",
       "    </tr>\n",
       "    <tr>\n",
       "      <th>c</th>\n",
       "      <td>0.439242</td>\n",
       "      <td>-0.906804</td>\n",
       "      <td>-0.529539</td>\n",
       "      <td>0.878483</td>\n",
       "      <td>2012</td>\n",
       "    </tr>\n",
       "    <tr>\n",
       "      <th>d</th>\n",
       "      <td>-0.709172</td>\n",
       "      <td>0.922178</td>\n",
       "      <td>-0.280137</td>\n",
       "      <td>-1.418344</td>\n",
       "      <td>2015</td>\n",
       "    </tr>\n",
       "  </tbody>\n",
       "</table>\n",
       "</div>"
      ],
      "text/plain": [
       "        yas      maas  calisma saati  Emekli Yasi tarih\n",
       "a  1.086862 -0.801427      -0.547364     2.173723  2010\n",
       "b -0.258225  0.342008       0.285382    -0.516450  2015\n",
       "c  0.439242 -0.906804      -0.529539     0.878483  2012\n",
       "d -0.709172  0.922178      -0.280137    -1.418344  2015"
      ]
     },
     "execution_count": 19,
     "metadata": {},
     "output_type": "execute_result"
    }
   ],
   "source": [
    "yeniDataFrame"
   ]
  },
  {
   "cell_type": "code",
   "execution_count": 20,
   "id": "daae8d22",
   "metadata": {},
   "outputs": [
    {
     "data": {
      "text/html": [
       "<div>\n",
       "<style scoped>\n",
       "    .dataframe tbody tr th:only-of-type {\n",
       "        vertical-align: middle;\n",
       "    }\n",
       "\n",
       "    .dataframe tbody tr th {\n",
       "        vertical-align: top;\n",
       "    }\n",
       "\n",
       "    .dataframe thead th {\n",
       "        text-align: right;\n",
       "    }\n",
       "</style>\n",
       "<table border=\"1\" class=\"dataframe\">\n",
       "  <thead>\n",
       "    <tr style=\"text-align: right;\">\n",
       "      <th></th>\n",
       "      <th>yas</th>\n",
       "      <th>maas</th>\n",
       "      <th>calisma saati</th>\n",
       "      <th>tarih</th>\n",
       "    </tr>\n",
       "  </thead>\n",
       "  <tbody>\n",
       "    <tr>\n",
       "      <th>a</th>\n",
       "      <td>1.086862</td>\n",
       "      <td>-0.801427</td>\n",
       "      <td>-0.547364</td>\n",
       "      <td>2010</td>\n",
       "    </tr>\n",
       "    <tr>\n",
       "      <th>b</th>\n",
       "      <td>-0.258225</td>\n",
       "      <td>0.342008</td>\n",
       "      <td>0.285382</td>\n",
       "      <td>2015</td>\n",
       "    </tr>\n",
       "    <tr>\n",
       "      <th>c</th>\n",
       "      <td>0.439242</td>\n",
       "      <td>-0.906804</td>\n",
       "      <td>-0.529539</td>\n",
       "      <td>2012</td>\n",
       "    </tr>\n",
       "    <tr>\n",
       "      <th>d</th>\n",
       "      <td>-0.709172</td>\n",
       "      <td>0.922178</td>\n",
       "      <td>-0.280137</td>\n",
       "      <td>2015</td>\n",
       "    </tr>\n",
       "  </tbody>\n",
       "</table>\n",
       "</div>"
      ],
      "text/plain": [
       "        yas      maas  calisma saati tarih\n",
       "a  1.086862 -0.801427      -0.547364  2010\n",
       "b -0.258225  0.342008       0.285382  2015\n",
       "c  0.439242 -0.906804      -0.529539  2012\n",
       "d -0.709172  0.922178      -0.280137  2015"
      ]
     },
     "execution_count": 20,
     "metadata": {},
     "output_type": "execute_result"
    }
   ],
   "source": [
    "# colon silme ama \"drop\" kalıcı silmiyor\n",
    "\n",
    "yeniDataFrame.drop(\"Emekli Yasi\", axis=1)"
   ]
  },
  {
   "cell_type": "code",
   "execution_count": 21,
   "id": "e58e2548",
   "metadata": {},
   "outputs": [
    {
     "data": {
      "text/html": [
       "<div>\n",
       "<style scoped>\n",
       "    .dataframe tbody tr th:only-of-type {\n",
       "        vertical-align: middle;\n",
       "    }\n",
       "\n",
       "    .dataframe tbody tr th {\n",
       "        vertical-align: top;\n",
       "    }\n",
       "\n",
       "    .dataframe thead th {\n",
       "        text-align: right;\n",
       "    }\n",
       "</style>\n",
       "<table border=\"1\" class=\"dataframe\">\n",
       "  <thead>\n",
       "    <tr style=\"text-align: right;\">\n",
       "      <th></th>\n",
       "      <th>yas</th>\n",
       "      <th>maas</th>\n",
       "      <th>calisma saati</th>\n",
       "      <th>Emekli Yasi</th>\n",
       "      <th>tarih</th>\n",
       "    </tr>\n",
       "  </thead>\n",
       "  <tbody>\n",
       "    <tr>\n",
       "      <th>a</th>\n",
       "      <td>1.086862</td>\n",
       "      <td>-0.801427</td>\n",
       "      <td>-0.547364</td>\n",
       "      <td>2.173723</td>\n",
       "      <td>2010</td>\n",
       "    </tr>\n",
       "    <tr>\n",
       "      <th>b</th>\n",
       "      <td>-0.258225</td>\n",
       "      <td>0.342008</td>\n",
       "      <td>0.285382</td>\n",
       "      <td>-0.516450</td>\n",
       "      <td>2015</td>\n",
       "    </tr>\n",
       "    <tr>\n",
       "      <th>c</th>\n",
       "      <td>0.439242</td>\n",
       "      <td>-0.906804</td>\n",
       "      <td>-0.529539</td>\n",
       "      <td>0.878483</td>\n",
       "      <td>2012</td>\n",
       "    </tr>\n",
       "    <tr>\n",
       "      <th>d</th>\n",
       "      <td>-0.709172</td>\n",
       "      <td>0.922178</td>\n",
       "      <td>-0.280137</td>\n",
       "      <td>-1.418344</td>\n",
       "      <td>2015</td>\n",
       "    </tr>\n",
       "  </tbody>\n",
       "</table>\n",
       "</div>"
      ],
      "text/plain": [
       "        yas      maas  calisma saati  Emekli Yasi tarih\n",
       "a  1.086862 -0.801427      -0.547364     2.173723  2010\n",
       "b -0.258225  0.342008       0.285382    -0.516450  2015\n",
       "c  0.439242 -0.906804      -0.529539     0.878483  2012\n",
       "d -0.709172  0.922178      -0.280137    -1.418344  2015"
      ]
     },
     "execution_count": 21,
     "metadata": {},
     "output_type": "execute_result"
    }
   ],
   "source": [
    "yeniDataFrame"
   ]
  },
  {
   "cell_type": "code",
   "execution_count": 22,
   "id": "a08c0702",
   "metadata": {},
   "outputs": [],
   "source": [
    "# colomn u kalıcı silmek için:\n",
    "\n",
    "yeniDataFrame.drop(\"Emekli Yasi\",axis=1,inplace=True)"
   ]
  },
  {
   "cell_type": "code",
   "execution_count": 23,
   "id": "2a0fff92",
   "metadata": {},
   "outputs": [
    {
     "data": {
      "text/html": [
       "<div>\n",
       "<style scoped>\n",
       "    .dataframe tbody tr th:only-of-type {\n",
       "        vertical-align: middle;\n",
       "    }\n",
       "\n",
       "    .dataframe tbody tr th {\n",
       "        vertical-align: top;\n",
       "    }\n",
       "\n",
       "    .dataframe thead th {\n",
       "        text-align: right;\n",
       "    }\n",
       "</style>\n",
       "<table border=\"1\" class=\"dataframe\">\n",
       "  <thead>\n",
       "    <tr style=\"text-align: right;\">\n",
       "      <th></th>\n",
       "      <th>yas</th>\n",
       "      <th>maas</th>\n",
       "      <th>calisma saati</th>\n",
       "      <th>tarih</th>\n",
       "    </tr>\n",
       "  </thead>\n",
       "  <tbody>\n",
       "    <tr>\n",
       "      <th>a</th>\n",
       "      <td>1.086862</td>\n",
       "      <td>-0.801427</td>\n",
       "      <td>-0.547364</td>\n",
       "      <td>2010</td>\n",
       "    </tr>\n",
       "    <tr>\n",
       "      <th>b</th>\n",
       "      <td>-0.258225</td>\n",
       "      <td>0.342008</td>\n",
       "      <td>0.285382</td>\n",
       "      <td>2015</td>\n",
       "    </tr>\n",
       "    <tr>\n",
       "      <th>c</th>\n",
       "      <td>0.439242</td>\n",
       "      <td>-0.906804</td>\n",
       "      <td>-0.529539</td>\n",
       "      <td>2012</td>\n",
       "    </tr>\n",
       "    <tr>\n",
       "      <th>d</th>\n",
       "      <td>-0.709172</td>\n",
       "      <td>0.922178</td>\n",
       "      <td>-0.280137</td>\n",
       "      <td>2015</td>\n",
       "    </tr>\n",
       "  </tbody>\n",
       "</table>\n",
       "</div>"
      ],
      "text/plain": [
       "        yas      maas  calisma saati tarih\n",
       "a  1.086862 -0.801427      -0.547364  2010\n",
       "b -0.258225  0.342008       0.285382  2015\n",
       "c  0.439242 -0.906804      -0.529539  2012\n",
       "d -0.709172  0.922178      -0.280137  2015"
      ]
     },
     "execution_count": 23,
     "metadata": {},
     "output_type": "execute_result"
    }
   ],
   "source": [
    "yeniDataFrame"
   ]
  },
  {
   "cell_type": "code",
   "execution_count": 24,
   "id": "72db0463",
   "metadata": {},
   "outputs": [
    {
     "data": {
      "text/plain": [
       "-0.801426673450769"
      ]
     },
     "execution_count": 24,
     "metadata": {},
     "output_type": "execute_result"
    }
   ],
   "source": [
    "yeniDataFrame.loc[\"a\"][\"maas\"]"
   ]
  },
  {
   "cell_type": "code",
   "execution_count": 25,
   "id": "32ce8512",
   "metadata": {},
   "outputs": [
    {
     "data": {
      "text/plain": [
       "-0.801426673450769"
      ]
     },
     "execution_count": 25,
     "metadata": {},
     "output_type": "execute_result"
    }
   ],
   "source": [
    "yeniDataFrame.loc[\"a\",\"maas\"]"
   ]
  },
  {
   "cell_type": "code",
   "execution_count": 26,
   "id": "f14e93ed",
   "metadata": {},
   "outputs": [
    {
     "data": {
      "text/html": [
       "<div>\n",
       "<style scoped>\n",
       "    .dataframe tbody tr th:only-of-type {\n",
       "        vertical-align: middle;\n",
       "    }\n",
       "\n",
       "    .dataframe tbody tr th {\n",
       "        vertical-align: top;\n",
       "    }\n",
       "\n",
       "    .dataframe thead th {\n",
       "        text-align: right;\n",
       "    }\n",
       "</style>\n",
       "<table border=\"1\" class=\"dataframe\">\n",
       "  <thead>\n",
       "    <tr style=\"text-align: right;\">\n",
       "      <th></th>\n",
       "      <th>yas</th>\n",
       "      <th>maas</th>\n",
       "      <th>calisma saati</th>\n",
       "      <th>tarih</th>\n",
       "    </tr>\n",
       "  </thead>\n",
       "  <tbody>\n",
       "    <tr>\n",
       "      <th>a</th>\n",
       "      <td>1.086862</td>\n",
       "      <td>-0.801427</td>\n",
       "      <td>-0.547364</td>\n",
       "      <td>2010</td>\n",
       "    </tr>\n",
       "    <tr>\n",
       "      <th>b</th>\n",
       "      <td>-0.258225</td>\n",
       "      <td>0.342008</td>\n",
       "      <td>0.285382</td>\n",
       "      <td>2015</td>\n",
       "    </tr>\n",
       "    <tr>\n",
       "      <th>c</th>\n",
       "      <td>0.439242</td>\n",
       "      <td>-0.906804</td>\n",
       "      <td>-0.529539</td>\n",
       "      <td>2012</td>\n",
       "    </tr>\n",
       "    <tr>\n",
       "      <th>d</th>\n",
       "      <td>-0.709172</td>\n",
       "      <td>0.922178</td>\n",
       "      <td>-0.280137</td>\n",
       "      <td>2015</td>\n",
       "    </tr>\n",
       "  </tbody>\n",
       "</table>\n",
       "</div>"
      ],
      "text/plain": [
       "        yas      maas  calisma saati tarih\n",
       "a  1.086862 -0.801427      -0.547364  2010\n",
       "b -0.258225  0.342008       0.285382  2015\n",
       "c  0.439242 -0.906804      -0.529539  2012\n",
       "d -0.709172  0.922178      -0.280137  2015"
      ]
     },
     "execution_count": 26,
     "metadata": {},
     "output_type": "execute_result"
    }
   ],
   "source": [
    "yeniDataFrame"
   ]
  },
  {
   "cell_type": "code",
   "execution_count": 27,
   "id": "39233661",
   "metadata": {},
   "outputs": [
    {
     "data": {
      "text/html": [
       "<div>\n",
       "<style scoped>\n",
       "    .dataframe tbody tr th:only-of-type {\n",
       "        vertical-align: middle;\n",
       "    }\n",
       "\n",
       "    .dataframe tbody tr th {\n",
       "        vertical-align: top;\n",
       "    }\n",
       "\n",
       "    .dataframe thead th {\n",
       "        text-align: right;\n",
       "    }\n",
       "</style>\n",
       "<table border=\"1\" class=\"dataframe\">\n",
       "  <thead>\n",
       "    <tr style=\"text-align: right;\">\n",
       "      <th></th>\n",
       "      <th>yas</th>\n",
       "      <th>maas</th>\n",
       "      <th>calisma saati</th>\n",
       "      <th>tarih</th>\n",
       "    </tr>\n",
       "  </thead>\n",
       "  <tbody>\n",
       "    <tr>\n",
       "      <th>a</th>\n",
       "      <td>2.173723</td>\n",
       "      <td>-1.602853</td>\n",
       "      <td>-1.094728</td>\n",
       "      <td>20102010</td>\n",
       "    </tr>\n",
       "    <tr>\n",
       "      <th>b</th>\n",
       "      <td>-0.516450</td>\n",
       "      <td>0.684017</td>\n",
       "      <td>0.570764</td>\n",
       "      <td>20152015</td>\n",
       "    </tr>\n",
       "    <tr>\n",
       "      <th>c</th>\n",
       "      <td>0.878483</td>\n",
       "      <td>-1.813608</td>\n",
       "      <td>-1.059077</td>\n",
       "      <td>20122012</td>\n",
       "    </tr>\n",
       "    <tr>\n",
       "      <th>d</th>\n",
       "      <td>-1.418344</td>\n",
       "      <td>1.844356</td>\n",
       "      <td>-0.560273</td>\n",
       "      <td>4030</td>\n",
       "    </tr>\n",
       "  </tbody>\n",
       "</table>\n",
       "</div>"
      ],
      "text/plain": [
       "        yas      maas  calisma saati     tarih\n",
       "a  2.173723 -1.602853      -1.094728  20102010\n",
       "b -0.516450  0.684017       0.570764  20152015\n",
       "c  0.878483 -1.813608      -1.059077  20122012\n",
       "d -1.418344  1.844356      -0.560273      4030"
      ]
     },
     "execution_count": 27,
     "metadata": {},
     "output_type": "execute_result"
    }
   ],
   "source": [
    "yeniDataFrame+yeniDataFrame"
   ]
  },
  {
   "cell_type": "code",
   "execution_count": 57,
   "id": "a76f8cb0",
   "metadata": {},
   "outputs": [
    {
     "data": {
      "text/html": [
       "<div>\n",
       "<style scoped>\n",
       "    .dataframe tbody tr th:only-of-type {\n",
       "        vertical-align: middle;\n",
       "    }\n",
       "\n",
       "    .dataframe tbody tr th {\n",
       "        vertical-align: top;\n",
       "    }\n",
       "\n",
       "    .dataframe thead th {\n",
       "        text-align: right;\n",
       "    }\n",
       "</style>\n",
       "<table border=\"1\" class=\"dataframe\">\n",
       "  <thead>\n",
       "    <tr style=\"text-align: right;\">\n",
       "      <th></th>\n",
       "      <th>yas</th>\n",
       "      <th>maas</th>\n",
       "      <th>calisma saati</th>\n",
       "      <th>tarih</th>\n",
       "    </tr>\n",
       "    <tr>\n",
       "      <th>yeni indeks</th>\n",
       "      <th></th>\n",
       "      <th></th>\n",
       "      <th></th>\n",
       "      <th></th>\n",
       "    </tr>\n",
       "  </thead>\n",
       "  <tbody>\n",
       "    <tr>\n",
       "      <th>zey</th>\n",
       "      <td>-0.258225</td>\n",
       "      <td>0.342008</td>\n",
       "      <td>0.285382</td>\n",
       "      <td>2015</td>\n",
       "    </tr>\n",
       "  </tbody>\n",
       "</table>\n",
       "</div>"
      ],
      "text/plain": [
       "                  yas      maas  calisma saati tarih\n",
       "yeni indeks                                         \n",
       "zey         -0.258225  0.342008       0.285382  2015"
      ]
     },
     "execution_count": 57,
     "metadata": {},
     "output_type": "execute_result"
    }
   ],
   "source": [
    "yeniDataFrame[yeniDataFrame[\"calisma saati\"]>0] \n",
    "#çalışma saati 0 dan büyük olanları satır şeklinde dönderir"
   ]
  },
  {
   "cell_type": "code",
   "execution_count": 29,
   "id": "1366175e",
   "metadata": {},
   "outputs": [
    {
     "data": {
      "text/html": [
       "<div>\n",
       "<style scoped>\n",
       "    .dataframe tbody tr th:only-of-type {\n",
       "        vertical-align: middle;\n",
       "    }\n",
       "\n",
       "    .dataframe tbody tr th {\n",
       "        vertical-align: top;\n",
       "    }\n",
       "\n",
       "    .dataframe thead th {\n",
       "        text-align: right;\n",
       "    }\n",
       "</style>\n",
       "<table border=\"1\" class=\"dataframe\">\n",
       "  <thead>\n",
       "    <tr style=\"text-align: right;\">\n",
       "      <th></th>\n",
       "      <th>yas</th>\n",
       "      <th>maas</th>\n",
       "      <th>calisma saati</th>\n",
       "      <th>tarih</th>\n",
       "    </tr>\n",
       "  </thead>\n",
       "  <tbody>\n",
       "    <tr>\n",
       "      <th>a</th>\n",
       "      <td>1.086862</td>\n",
       "      <td>-0.801427</td>\n",
       "      <td>-0.547364</td>\n",
       "      <td>2010</td>\n",
       "    </tr>\n",
       "    <tr>\n",
       "      <th>b</th>\n",
       "      <td>-0.258225</td>\n",
       "      <td>0.342008</td>\n",
       "      <td>0.285382</td>\n",
       "      <td>2015</td>\n",
       "    </tr>\n",
       "    <tr>\n",
       "      <th>c</th>\n",
       "      <td>0.439242</td>\n",
       "      <td>-0.906804</td>\n",
       "      <td>-0.529539</td>\n",
       "      <td>2012</td>\n",
       "    </tr>\n",
       "    <tr>\n",
       "      <th>d</th>\n",
       "      <td>-0.709172</td>\n",
       "      <td>0.922178</td>\n",
       "      <td>-0.280137</td>\n",
       "      <td>2015</td>\n",
       "    </tr>\n",
       "  </tbody>\n",
       "</table>\n",
       "</div>"
      ],
      "text/plain": [
       "        yas      maas  calisma saati tarih\n",
       "a  1.086862 -0.801427      -0.547364  2010\n",
       "b -0.258225  0.342008       0.285382  2015\n",
       "c  0.439242 -0.906804      -0.529539  2012\n",
       "d -0.709172  0.922178      -0.280137  2015"
      ]
     },
     "execution_count": 29,
     "metadata": {},
     "output_type": "execute_result"
    }
   ],
   "source": [
    "yeniDataFrame "
   ]
  },
  {
   "cell_type": "code",
   "execution_count": 30,
   "id": "9b0ca1a8",
   "metadata": {},
   "outputs": [],
   "source": [
    "yeniIndeksListesi=[\"ati\",\"zey\",\"atl\",\"meh\"]"
   ]
  },
  {
   "cell_type": "code",
   "execution_count": 31,
   "id": "5850ec2a",
   "metadata": {},
   "outputs": [],
   "source": [
    "yeniDataFrame[\"yeni indeks\"]=yeniIndeksListesi"
   ]
  },
  {
   "cell_type": "code",
   "execution_count": 32,
   "id": "7d455dd3",
   "metadata": {},
   "outputs": [
    {
     "data": {
      "text/html": [
       "<div>\n",
       "<style scoped>\n",
       "    .dataframe tbody tr th:only-of-type {\n",
       "        vertical-align: middle;\n",
       "    }\n",
       "\n",
       "    .dataframe tbody tr th {\n",
       "        vertical-align: top;\n",
       "    }\n",
       "\n",
       "    .dataframe thead th {\n",
       "        text-align: right;\n",
       "    }\n",
       "</style>\n",
       "<table border=\"1\" class=\"dataframe\">\n",
       "  <thead>\n",
       "    <tr style=\"text-align: right;\">\n",
       "      <th></th>\n",
       "      <th>yas</th>\n",
       "      <th>maas</th>\n",
       "      <th>calisma saati</th>\n",
       "      <th>tarih</th>\n",
       "      <th>yeni indeks</th>\n",
       "    </tr>\n",
       "  </thead>\n",
       "  <tbody>\n",
       "    <tr>\n",
       "      <th>a</th>\n",
       "      <td>1.086862</td>\n",
       "      <td>-0.801427</td>\n",
       "      <td>-0.547364</td>\n",
       "      <td>2010</td>\n",
       "      <td>ati</td>\n",
       "    </tr>\n",
       "    <tr>\n",
       "      <th>b</th>\n",
       "      <td>-0.258225</td>\n",
       "      <td>0.342008</td>\n",
       "      <td>0.285382</td>\n",
       "      <td>2015</td>\n",
       "      <td>zey</td>\n",
       "    </tr>\n",
       "    <tr>\n",
       "      <th>c</th>\n",
       "      <td>0.439242</td>\n",
       "      <td>-0.906804</td>\n",
       "      <td>-0.529539</td>\n",
       "      <td>2012</td>\n",
       "      <td>atl</td>\n",
       "    </tr>\n",
       "    <tr>\n",
       "      <th>d</th>\n",
       "      <td>-0.709172</td>\n",
       "      <td>0.922178</td>\n",
       "      <td>-0.280137</td>\n",
       "      <td>2015</td>\n",
       "      <td>meh</td>\n",
       "    </tr>\n",
       "  </tbody>\n",
       "</table>\n",
       "</div>"
      ],
      "text/plain": [
       "        yas      maas  calisma saati tarih yeni indeks\n",
       "a  1.086862 -0.801427      -0.547364  2010         ati\n",
       "b -0.258225  0.342008       0.285382  2015         zey\n",
       "c  0.439242 -0.906804      -0.529539  2012         atl\n",
       "d -0.709172  0.922178      -0.280137  2015         meh"
      ]
     },
     "execution_count": 32,
     "metadata": {},
     "output_type": "execute_result"
    }
   ],
   "source": [
    "yeniDataFrame"
   ]
  },
  {
   "cell_type": "code",
   "execution_count": 33,
   "id": "42ea21c3",
   "metadata": {},
   "outputs": [
    {
     "data": {
      "text/html": [
       "<div>\n",
       "<style scoped>\n",
       "    .dataframe tbody tr th:only-of-type {\n",
       "        vertical-align: middle;\n",
       "    }\n",
       "\n",
       "    .dataframe tbody tr th {\n",
       "        vertical-align: top;\n",
       "    }\n",
       "\n",
       "    .dataframe thead th {\n",
       "        text-align: right;\n",
       "    }\n",
       "</style>\n",
       "<table border=\"1\" class=\"dataframe\">\n",
       "  <thead>\n",
       "    <tr style=\"text-align: right;\">\n",
       "      <th></th>\n",
       "      <th>yas</th>\n",
       "      <th>maas</th>\n",
       "      <th>calisma saati</th>\n",
       "      <th>tarih</th>\n",
       "    </tr>\n",
       "    <tr>\n",
       "      <th>yeni indeks</th>\n",
       "      <th></th>\n",
       "      <th></th>\n",
       "      <th></th>\n",
       "      <th></th>\n",
       "    </tr>\n",
       "  </thead>\n",
       "  <tbody>\n",
       "    <tr>\n",
       "      <th>ati</th>\n",
       "      <td>1.086862</td>\n",
       "      <td>-0.801427</td>\n",
       "      <td>-0.547364</td>\n",
       "      <td>2010</td>\n",
       "    </tr>\n",
       "    <tr>\n",
       "      <th>zey</th>\n",
       "      <td>-0.258225</td>\n",
       "      <td>0.342008</td>\n",
       "      <td>0.285382</td>\n",
       "      <td>2015</td>\n",
       "    </tr>\n",
       "    <tr>\n",
       "      <th>atl</th>\n",
       "      <td>0.439242</td>\n",
       "      <td>-0.906804</td>\n",
       "      <td>-0.529539</td>\n",
       "      <td>2012</td>\n",
       "    </tr>\n",
       "    <tr>\n",
       "      <th>meh</th>\n",
       "      <td>-0.709172</td>\n",
       "      <td>0.922178</td>\n",
       "      <td>-0.280137</td>\n",
       "      <td>2015</td>\n",
       "    </tr>\n",
       "  </tbody>\n",
       "</table>\n",
       "</div>"
      ],
      "text/plain": [
       "                  yas      maas  calisma saati tarih\n",
       "yeni indeks                                         \n",
       "ati          1.086862 -0.801427      -0.547364  2010\n",
       "zey         -0.258225  0.342008       0.285382  2015\n",
       "atl          0.439242 -0.906804      -0.529539  2012\n",
       "meh         -0.709172  0.922178      -0.280137  2015"
      ]
     },
     "execution_count": 33,
     "metadata": {},
     "output_type": "execute_result"
    }
   ],
   "source": [
    "yeniDataFrame.set_index(\"yeni indeks\")"
   ]
  },
  {
   "cell_type": "code",
   "execution_count": 34,
   "id": "b244dfa3",
   "metadata": {},
   "outputs": [
    {
     "data": {
      "text/html": [
       "<div>\n",
       "<style scoped>\n",
       "    .dataframe tbody tr th:only-of-type {\n",
       "        vertical-align: middle;\n",
       "    }\n",
       "\n",
       "    .dataframe tbody tr th {\n",
       "        vertical-align: top;\n",
       "    }\n",
       "\n",
       "    .dataframe thead th {\n",
       "        text-align: right;\n",
       "    }\n",
       "</style>\n",
       "<table border=\"1\" class=\"dataframe\">\n",
       "  <thead>\n",
       "    <tr style=\"text-align: right;\">\n",
       "      <th></th>\n",
       "      <th>yas</th>\n",
       "      <th>maas</th>\n",
       "      <th>calisma saati</th>\n",
       "      <th>tarih</th>\n",
       "      <th>yeni indeks</th>\n",
       "    </tr>\n",
       "  </thead>\n",
       "  <tbody>\n",
       "    <tr>\n",
       "      <th>a</th>\n",
       "      <td>1.086862</td>\n",
       "      <td>-0.801427</td>\n",
       "      <td>-0.547364</td>\n",
       "      <td>2010</td>\n",
       "      <td>ati</td>\n",
       "    </tr>\n",
       "    <tr>\n",
       "      <th>b</th>\n",
       "      <td>-0.258225</td>\n",
       "      <td>0.342008</td>\n",
       "      <td>0.285382</td>\n",
       "      <td>2015</td>\n",
       "      <td>zey</td>\n",
       "    </tr>\n",
       "    <tr>\n",
       "      <th>c</th>\n",
       "      <td>0.439242</td>\n",
       "      <td>-0.906804</td>\n",
       "      <td>-0.529539</td>\n",
       "      <td>2012</td>\n",
       "      <td>atl</td>\n",
       "    </tr>\n",
       "    <tr>\n",
       "      <th>d</th>\n",
       "      <td>-0.709172</td>\n",
       "      <td>0.922178</td>\n",
       "      <td>-0.280137</td>\n",
       "      <td>2015</td>\n",
       "      <td>meh</td>\n",
       "    </tr>\n",
       "  </tbody>\n",
       "</table>\n",
       "</div>"
      ],
      "text/plain": [
       "        yas      maas  calisma saati tarih yeni indeks\n",
       "a  1.086862 -0.801427      -0.547364  2010         ati\n",
       "b -0.258225  0.342008       0.285382  2015         zey\n",
       "c  0.439242 -0.906804      -0.529539  2012         atl\n",
       "d -0.709172  0.922178      -0.280137  2015         meh"
      ]
     },
     "execution_count": 34,
     "metadata": {},
     "output_type": "execute_result"
    }
   ],
   "source": [
    "yeniDataFrame"
   ]
  },
  {
   "cell_type": "code",
   "execution_count": 35,
   "id": "91907e37",
   "metadata": {},
   "outputs": [],
   "source": [
    "yeniDataFrame.set_index(\"yeni indeks\",inplace=True)"
   ]
  },
  {
   "cell_type": "code",
   "execution_count": 36,
   "id": "b3b5c6e9",
   "metadata": {},
   "outputs": [
    {
     "data": {
      "text/html": [
       "<div>\n",
       "<style scoped>\n",
       "    .dataframe tbody tr th:only-of-type {\n",
       "        vertical-align: middle;\n",
       "    }\n",
       "\n",
       "    .dataframe tbody tr th {\n",
       "        vertical-align: top;\n",
       "    }\n",
       "\n",
       "    .dataframe thead th {\n",
       "        text-align: right;\n",
       "    }\n",
       "</style>\n",
       "<table border=\"1\" class=\"dataframe\">\n",
       "  <thead>\n",
       "    <tr style=\"text-align: right;\">\n",
       "      <th></th>\n",
       "      <th>yas</th>\n",
       "      <th>maas</th>\n",
       "      <th>calisma saati</th>\n",
       "      <th>tarih</th>\n",
       "    </tr>\n",
       "    <tr>\n",
       "      <th>yeni indeks</th>\n",
       "      <th></th>\n",
       "      <th></th>\n",
       "      <th></th>\n",
       "      <th></th>\n",
       "    </tr>\n",
       "  </thead>\n",
       "  <tbody>\n",
       "    <tr>\n",
       "      <th>ati</th>\n",
       "      <td>1.086862</td>\n",
       "      <td>-0.801427</td>\n",
       "      <td>-0.547364</td>\n",
       "      <td>2010</td>\n",
       "    </tr>\n",
       "    <tr>\n",
       "      <th>zey</th>\n",
       "      <td>-0.258225</td>\n",
       "      <td>0.342008</td>\n",
       "      <td>0.285382</td>\n",
       "      <td>2015</td>\n",
       "    </tr>\n",
       "    <tr>\n",
       "      <th>atl</th>\n",
       "      <td>0.439242</td>\n",
       "      <td>-0.906804</td>\n",
       "      <td>-0.529539</td>\n",
       "      <td>2012</td>\n",
       "    </tr>\n",
       "    <tr>\n",
       "      <th>meh</th>\n",
       "      <td>-0.709172</td>\n",
       "      <td>0.922178</td>\n",
       "      <td>-0.280137</td>\n",
       "      <td>2015</td>\n",
       "    </tr>\n",
       "  </tbody>\n",
       "</table>\n",
       "</div>"
      ],
      "text/plain": [
       "                  yas      maas  calisma saati tarih\n",
       "yeni indeks                                         \n",
       "ati          1.086862 -0.801427      -0.547364  2010\n",
       "zey         -0.258225  0.342008       0.285382  2015\n",
       "atl          0.439242 -0.906804      -0.529539  2012\n",
       "meh         -0.709172  0.922178      -0.280137  2015"
      ]
     },
     "execution_count": 36,
     "metadata": {},
     "output_type": "execute_result"
    }
   ],
   "source": [
    "yeniDataFrame"
   ]
  },
  {
   "cell_type": "markdown",
   "id": "516a3f73",
   "metadata": {},
   "source": [
    "## multi indeks"
   ]
  },
  {
   "cell_type": "code",
   "execution_count": 37,
   "id": "d9f6cdf2",
   "metadata": {},
   "outputs": [],
   "source": [
    "ilkIndeks=[\"simpsom\",\"simpsom\",\"simpsom\",\"south park\",\"south park\",\"south park\"]"
   ]
  },
  {
   "cell_type": "code",
   "execution_count": 38,
   "id": "c63fdd44",
   "metadata": {},
   "outputs": [],
   "source": [
    "ikinciIndeks=[\"homer\",\"bart\",\"marge\",\"cartman\",\"kanny\",\"kyle\"]"
   ]
  },
  {
   "cell_type": "code",
   "execution_count": 39,
   "id": "ff1f133f",
   "metadata": {},
   "outputs": [],
   "source": [
    "birlestrilmisIndeks=list(zip(ilkIndeks,ikinciIndeks))"
   ]
  },
  {
   "cell_type": "code",
   "execution_count": 40,
   "id": "856a8021",
   "metadata": {},
   "outputs": [
    {
     "data": {
      "text/plain": [
       "[('simpsom', 'homer'),\n",
       " ('simpsom', 'bart'),\n",
       " ('simpsom', 'marge'),\n",
       " ('south park', 'cartman'),\n",
       " ('south park', 'kanny'),\n",
       " ('south park', 'kyle')]"
      ]
     },
     "execution_count": 40,
     "metadata": {},
     "output_type": "execute_result"
    }
   ],
   "source": [
    "birlestrilmisIndeks"
   ]
  },
  {
   "cell_type": "code",
   "execution_count": 42,
   "id": "3b22950a",
   "metadata": {},
   "outputs": [],
   "source": [
    "birlestrilmisIndeks=pd.MultiIndex.from_tuples(birlestrilmisIndeks)"
   ]
  },
  {
   "cell_type": "code",
   "execution_count": 43,
   "id": "b18c2fef",
   "metadata": {},
   "outputs": [
    {
     "data": {
      "text/plain": [
       "MultiIndex([(   'simpsom',   'homer'),\n",
       "            (   'simpsom',    'bart'),\n",
       "            (   'simpsom',   'marge'),\n",
       "            ('south park', 'cartman'),\n",
       "            ('south park',   'kanny'),\n",
       "            ('south park',    'kyle')],\n",
       "           )"
      ]
     },
     "execution_count": 43,
     "metadata": {},
     "output_type": "execute_result"
    }
   ],
   "source": [
    "birlestrilmisIndeks"
   ]
  },
  {
   "cell_type": "code",
   "execution_count": 44,
   "id": "6b1edc05",
   "metadata": {},
   "outputs": [],
   "source": [
    "yeniDatalar=[[10,\"a\"],[20,\"b\"],[40,\"c\"],[10,\"d\"],[50,\"e\"],[30,\"f\"]]"
   ]
  },
  {
   "cell_type": "code",
   "execution_count": 45,
   "id": "575f285d",
   "metadata": {},
   "outputs": [],
   "source": [
    "cizgiFilmNpDizisi=np.array(yeniDatalar)"
   ]
  },
  {
   "cell_type": "code",
   "execution_count": 46,
   "id": "b1467e7d",
   "metadata": {},
   "outputs": [],
   "source": [
    "cizgiFilmDataFrame=pd.DataFrame(cizgiFilmNpDizisi,index=birlestrilmisIndeks,columns=[\"yas\",\"meslek\"])"
   ]
  },
  {
   "cell_type": "code",
   "execution_count": 47,
   "id": "ebedf5b2",
   "metadata": {},
   "outputs": [
    {
     "data": {
      "text/html": [
       "<div>\n",
       "<style scoped>\n",
       "    .dataframe tbody tr th:only-of-type {\n",
       "        vertical-align: middle;\n",
       "    }\n",
       "\n",
       "    .dataframe tbody tr th {\n",
       "        vertical-align: top;\n",
       "    }\n",
       "\n",
       "    .dataframe thead th {\n",
       "        text-align: right;\n",
       "    }\n",
       "</style>\n",
       "<table border=\"1\" class=\"dataframe\">\n",
       "  <thead>\n",
       "    <tr style=\"text-align: right;\">\n",
       "      <th></th>\n",
       "      <th></th>\n",
       "      <th>yas</th>\n",
       "      <th>meslek</th>\n",
       "    </tr>\n",
       "  </thead>\n",
       "  <tbody>\n",
       "    <tr>\n",
       "      <th rowspan=\"3\" valign=\"top\">simpsom</th>\n",
       "      <th>homer</th>\n",
       "      <td>10</td>\n",
       "      <td>a</td>\n",
       "    </tr>\n",
       "    <tr>\n",
       "      <th>bart</th>\n",
       "      <td>20</td>\n",
       "      <td>b</td>\n",
       "    </tr>\n",
       "    <tr>\n",
       "      <th>marge</th>\n",
       "      <td>40</td>\n",
       "      <td>c</td>\n",
       "    </tr>\n",
       "    <tr>\n",
       "      <th rowspan=\"3\" valign=\"top\">south park</th>\n",
       "      <th>cartman</th>\n",
       "      <td>10</td>\n",
       "      <td>d</td>\n",
       "    </tr>\n",
       "    <tr>\n",
       "      <th>kanny</th>\n",
       "      <td>50</td>\n",
       "      <td>e</td>\n",
       "    </tr>\n",
       "    <tr>\n",
       "      <th>kyle</th>\n",
       "      <td>30</td>\n",
       "      <td>f</td>\n",
       "    </tr>\n",
       "  </tbody>\n",
       "</table>\n",
       "</div>"
      ],
      "text/plain": [
       "                   yas meslek\n",
       "simpsom    homer    10      a\n",
       "           bart     20      b\n",
       "           marge    40      c\n",
       "south park cartman  10      d\n",
       "           kanny    50      e\n",
       "           kyle     30      f"
      ]
     },
     "execution_count": 47,
     "metadata": {},
     "output_type": "execute_result"
    }
   ],
   "source": [
    "cizgiFilmDataFrame"
   ]
  },
  {
   "cell_type": "code",
   "execution_count": 50,
   "id": "6fcfd132",
   "metadata": {},
   "outputs": [
    {
     "data": {
      "text/html": [
       "<div>\n",
       "<style scoped>\n",
       "    .dataframe tbody tr th:only-of-type {\n",
       "        vertical-align: middle;\n",
       "    }\n",
       "\n",
       "    .dataframe tbody tr th {\n",
       "        vertical-align: top;\n",
       "    }\n",
       "\n",
       "    .dataframe thead th {\n",
       "        text-align: right;\n",
       "    }\n",
       "</style>\n",
       "<table border=\"1\" class=\"dataframe\">\n",
       "  <thead>\n",
       "    <tr style=\"text-align: right;\">\n",
       "      <th></th>\n",
       "      <th>yas</th>\n",
       "      <th>meslek</th>\n",
       "    </tr>\n",
       "  </thead>\n",
       "  <tbody>\n",
       "    <tr>\n",
       "      <th>homer</th>\n",
       "      <td>10</td>\n",
       "      <td>a</td>\n",
       "    </tr>\n",
       "    <tr>\n",
       "      <th>bart</th>\n",
       "      <td>20</td>\n",
       "      <td>b</td>\n",
       "    </tr>\n",
       "    <tr>\n",
       "      <th>marge</th>\n",
       "      <td>40</td>\n",
       "      <td>c</td>\n",
       "    </tr>\n",
       "  </tbody>\n",
       "</table>\n",
       "</div>"
      ],
      "text/plain": [
       "      yas meslek\n",
       "homer  10      a\n",
       "bart   20      b\n",
       "marge  40      c"
      ]
     },
     "execution_count": 50,
     "metadata": {},
     "output_type": "execute_result"
    }
   ],
   "source": [
    "cizgiFilmDataFrame.loc[\"simpsom\"]"
   ]
  },
  {
   "cell_type": "code",
   "execution_count": 51,
   "id": "ee90465e",
   "metadata": {},
   "outputs": [
    {
     "data": {
      "text/plain": [
       "yas       50\n",
       "meslek     e\n",
       "Name: kanny, dtype: object"
      ]
     },
     "execution_count": 51,
     "metadata": {},
     "output_type": "execute_result"
    }
   ],
   "source": [
    "cizgiFilmDataFrame.loc[\"south park\"].loc[\"kanny\"]"
   ]
  },
  {
   "cell_type": "code",
   "execution_count": 52,
   "id": "e37e0597",
   "metadata": {},
   "outputs": [],
   "source": [
    "cizgiFilmDataFrame.index.names=[\"film adi\",\"isimler\"]"
   ]
  },
  {
   "cell_type": "code",
   "execution_count": 53,
   "id": "64c32353",
   "metadata": {},
   "outputs": [
    {
     "data": {
      "text/html": [
       "<div>\n",
       "<style scoped>\n",
       "    .dataframe tbody tr th:only-of-type {\n",
       "        vertical-align: middle;\n",
       "    }\n",
       "\n",
       "    .dataframe tbody tr th {\n",
       "        vertical-align: top;\n",
       "    }\n",
       "\n",
       "    .dataframe thead th {\n",
       "        text-align: right;\n",
       "    }\n",
       "</style>\n",
       "<table border=\"1\" class=\"dataframe\">\n",
       "  <thead>\n",
       "    <tr style=\"text-align: right;\">\n",
       "      <th></th>\n",
       "      <th></th>\n",
       "      <th>yas</th>\n",
       "      <th>meslek</th>\n",
       "    </tr>\n",
       "    <tr>\n",
       "      <th>film adi</th>\n",
       "      <th>isimler</th>\n",
       "      <th></th>\n",
       "      <th></th>\n",
       "    </tr>\n",
       "  </thead>\n",
       "  <tbody>\n",
       "    <tr>\n",
       "      <th rowspan=\"3\" valign=\"top\">simpsom</th>\n",
       "      <th>homer</th>\n",
       "      <td>10</td>\n",
       "      <td>a</td>\n",
       "    </tr>\n",
       "    <tr>\n",
       "      <th>bart</th>\n",
       "      <td>20</td>\n",
       "      <td>b</td>\n",
       "    </tr>\n",
       "    <tr>\n",
       "      <th>marge</th>\n",
       "      <td>40</td>\n",
       "      <td>c</td>\n",
       "    </tr>\n",
       "    <tr>\n",
       "      <th rowspan=\"3\" valign=\"top\">south park</th>\n",
       "      <th>cartman</th>\n",
       "      <td>10</td>\n",
       "      <td>d</td>\n",
       "    </tr>\n",
       "    <tr>\n",
       "      <th>kanny</th>\n",
       "      <td>50</td>\n",
       "      <td>e</td>\n",
       "    </tr>\n",
       "    <tr>\n",
       "      <th>kyle</th>\n",
       "      <td>30</td>\n",
       "      <td>f</td>\n",
       "    </tr>\n",
       "  </tbody>\n",
       "</table>\n",
       "</div>"
      ],
      "text/plain": [
       "                   yas meslek\n",
       "film adi   isimler           \n",
       "simpsom    homer    10      a\n",
       "           bart     20      b\n",
       "           marge    40      c\n",
       "south park cartman  10      d\n",
       "           kanny    50      e\n",
       "           kyle     30      f"
      ]
     },
     "execution_count": 53,
     "metadata": {},
     "output_type": "execute_result"
    }
   ],
   "source": [
    "cizgiFilmDataFrame"
   ]
  },
  {
   "cell_type": "code",
   "execution_count": null,
   "id": "a31fd817",
   "metadata": {},
   "outputs": [],
   "source": []
  }
 ],
 "metadata": {
  "kernelspec": {
   "display_name": "Python 3 (ipykernel)",
   "language": "python",
   "name": "python3"
  },
  "language_info": {
   "codemirror_mode": {
    "name": "ipython",
    "version": 3
   },
   "file_extension": ".py",
   "mimetype": "text/x-python",
   "name": "python",
   "nbconvert_exporter": "python",
   "pygments_lexer": "ipython3",
   "version": "3.9.7"
  }
 },
 "nbformat": 4,
 "nbformat_minor": 5
}
