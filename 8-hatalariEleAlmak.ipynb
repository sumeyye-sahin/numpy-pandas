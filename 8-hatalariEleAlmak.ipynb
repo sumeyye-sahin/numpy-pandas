{
 "cells": [
  {
   "cell_type": "code",
   "execution_count": null,
   "id": "f992ff71",
   "metadata": {},
   "outputs": [],
   "source": [
    "def toplama (num1,num2):\n",
    "    return num1+num2"
   ]
  },
  {
   "cell_type": "code",
   "execution_count": 10,
   "id": "f346b16a",
   "metadata": {},
   "outputs": [
    {
     "name": "stdout",
     "output_type": "stream",
     "text": [
      "ilk sayıyı giriniz: 10\n",
      "ikinci sayıyı giirniz: 52\n"
     ]
    },
    {
     "data": {
      "text/plain": [
       "62"
      ]
     },
     "execution_count": 10,
     "metadata": {},
     "output_type": "execute_result"
    }
   ],
   "source": [
    "x=int(input(\"ilk sayıyı giriniz: \"))\n",
    "y=int(input(\"ikinci sayıyı giirniz: \"))\n",
    "\n",
    "toplama(x,y)"
   ]
  },
  {
   "cell_type": "markdown",
   "id": "7df721b6",
   "metadata": {},
   "source": [
    "# try & except & else & finally"
   ]
  },
  {
   "cell_type": "code",
   "execution_count": 18,
   "id": "b936dfbb",
   "metadata": {},
   "outputs": [
    {
     "name": "stdout",
     "output_type": "stream",
     "text": [
      "sayı girin: dfdg\n",
      "Lütfen sayı giriniz.\n",
      "finally çağrıldı \n",
      "sayı girin: 41\n",
      "teşekkürler\n",
      "finally çağrıldı \n"
     ]
    }
   ],
   "source": [
    "while True:\n",
    "    try: \n",
    "        benimInt=int(input(\"sayı girin: \"))\n",
    "    except:\n",
    "        print(\"Lütfen sayı giriniz.\")\n",
    "        continue\n",
    "    else: \n",
    "        print(\"teşekkürler\")\n",
    "        break\n",
    "    finally:\n",
    "        print(\"finally çağrıldı \")"
   ]
  },
  {
   "cell_type": "code",
   "execution_count": null,
   "id": "0fe74484",
   "metadata": {},
   "outputs": [],
   "source": []
  }
 ],
 "metadata": {
  "kernelspec": {
   "display_name": "Python 3 (ipykernel)",
   "language": "python",
   "name": "python3"
  },
  "language_info": {
   "codemirror_mode": {
    "name": "ipython",
    "version": 3
   },
   "file_extension": ".py",
   "mimetype": "text/x-python",
   "name": "python",
   "nbconvert_exporter": "python",
   "pygments_lexer": "ipython3",
   "version": "3.9.7"
  }
 },
 "nbformat": 4,
 "nbformat_minor": 5
}
