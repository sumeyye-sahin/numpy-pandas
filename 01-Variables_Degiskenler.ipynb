{
 "cells": [
  {
   "cell_type": "code",
   "execution_count": 8,
   "id": "e527e986",
   "metadata": {},
   "outputs": [],
   "source": [
    "# yorum satırı iki diyes ile yapılıyor\n"
   ]
  },
  {
   "cell_type": "code",
   "execution_count": 9,
   "id": "8d5bcd1e",
   "metadata": {},
   "outputs": [
    {
     "data": {
      "text/plain": [
       "16"
      ]
     },
     "execution_count": 9,
     "metadata": {},
     "output_type": "execute_result"
    }
   ],
   "source": [
    "4**2"
   ]
  },
  {
   "cell_type": "markdown",
   "id": "512dbaae",
   "metadata": {},
   "source": [
    "### remainder kalan demek"
   ]
  },
  {
   "cell_type": "code",
   "execution_count": 10,
   "id": "c2adbc58",
   "metadata": {},
   "outputs": [
    {
     "data": {
      "text/plain": [
       "105"
      ]
     },
     "execution_count": 10,
     "metadata": {},
     "output_type": "execute_result"
    }
   ],
   "source": [
    "w=20\n",
    "u=85\n",
    "w+u"
   ]
  },
  {
   "cell_type": "code",
   "execution_count": 12,
   "id": "84f4c74b",
   "metadata": {},
   "outputs": [
    {
     "name": "stdout",
     "output_type": "stream",
     "text": [
      "yaşınzıı giriniz:45\n"
     ]
    }
   ],
   "source": [
    "kullanicininyasi=input(\"yaşınzıı giriniz:\")"
   ]
  },
  {
   "cell_type": "code",
   "execution_count": 13,
   "id": "559469d9",
   "metadata": {},
   "outputs": [
    {
     "data": {
      "text/plain": [
       "'45'"
      ]
     },
     "execution_count": 13,
     "metadata": {},
     "output_type": "execute_result"
    }
   ],
   "source": [
    "kullanicininyasi"
   ]
  },
  {
   "cell_type": "code",
   "execution_count": 14,
   "id": "1157c9b5",
   "metadata": {},
   "outputs": [
    {
     "data": {
      "text/plain": [
       "str"
      ]
     },
     "execution_count": 14,
     "metadata": {},
     "output_type": "execute_result"
    }
   ],
   "source": [
    "type(kullanicininyasi)"
   ]
  },
  {
   "cell_type": "code",
   "execution_count": 1,
   "id": "5f9157f3",
   "metadata": {},
   "outputs": [
    {
     "name": "stdout",
     "output_type": "stream",
     "text": [
      "string ile çalışma\n"
     ]
    }
   ],
   "source": [
    "a=\"string ile çalışma\"\n",
    "print(a)"
   ]
  },
  {
   "cell_type": "code",
   "execution_count": 2,
   "id": "472ba48b",
   "metadata": {},
   "outputs": [
    {
     "data": {
      "text/plain": [
       "str"
      ]
     },
     "execution_count": 2,
     "metadata": {},
     "output_type": "execute_result"
    }
   ],
   "source": [
    "type(a)"
   ]
  },
  {
   "cell_type": "code",
   "execution_count": null,
   "id": "9591cbcf",
   "metadata": {},
   "outputs": [],
   "source": [
    "liate=[1,2,3,51,2,8,9,8,2,8]\n",
    "listeset=set(liate)\n",
    "listeset\n"
   ]
  },
  {
   "cell_type": "markdown",
   "id": "357f79f6",
   "metadata": {},
   "source": [
    "## set aynı zamanda sıralıyor\n"
   ]
  },
  {
   "cell_type": "code",
   "execution_count": 7,
   "id": "5f0e844e",
   "metadata": {},
   "outputs": [
    {
     "data": {
      "text/plain": [
       "set"
      ]
     },
     "execution_count": 7,
     "metadata": {},
     "output_type": "execute_result"
    }
   ],
   "source": [
    "benimBosSetim=set()\n",
    "type(benimBosSetim)"
   ]
  },
  {
   "cell_type": "markdown",
   "id": "1d2ecbf6",
   "metadata": {},
   "source": [
    "## tuple değiştirilemeyebn listeler oluşturmak için kullanılır tuple=(...)\n",
    "## list=[...]\n",
    "## dictionary={...,...}\n",
    "## set={...}"
   ]
  },
  {
   "cell_type": "code",
   "execution_count": null,
   "id": "214e1455",
   "metadata": {},
   "outputs": [],
   "source": []
  }
 ],
 "metadata": {
  "kernelspec": {
   "display_name": "Python 3 (ipykernel)",
   "language": "python",
   "name": "python3"
  },
  "language_info": {
   "codemirror_mode": {
    "name": "ipython",
    "version": 3
   },
   "file_extension": ".py",
   "mimetype": "text/x-python",
   "name": "python",
   "nbconvert_exporter": "python",
   "pygments_lexer": "ipython3",
   "version": "3.9.7"
  }
 },
 "nbformat": 4,
 "nbformat_minor": 5
}
