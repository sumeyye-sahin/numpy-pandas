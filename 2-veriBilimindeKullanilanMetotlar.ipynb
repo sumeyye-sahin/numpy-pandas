{
 "cells": [
  {
   "cell_type": "markdown",
   "id": "f334b2b7",
   "metadata": {},
   "source": [
    "# range = kapsam . bir yerden bir yere giderken içerik. range(başlangıç,bitiş,artış miktarı) list yapmada yardımcı oluyor"
   ]
  },
  {
   "cell_type": "code",
   "execution_count": 1,
   "id": "fe77b9f5",
   "metadata": {},
   "outputs": [
    {
     "data": {
      "text/plain": [
       "range(0, 5)"
      ]
     },
     "execution_count": 1,
     "metadata": {},
     "output_type": "execute_result"
    }
   ],
   "source": [
    "range(5)"
   ]
  },
  {
   "cell_type": "code",
   "execution_count": 2,
   "id": "94d61792",
   "metadata": {},
   "outputs": [
    {
     "name": "stdout",
     "output_type": "stream",
     "text": [
      "range(0, 5)\n"
     ]
    }
   ],
   "source": [
    "print(range(5))"
   ]
  },
  {
   "cell_type": "code",
   "execution_count": 4,
   "id": "175f9d25",
   "metadata": {},
   "outputs": [
    {
     "name": "stdout",
     "output_type": "stream",
     "text": [
      "0\n",
      "1\n",
      "2\n",
      "3\n",
      "4\n"
     ]
    }
   ],
   "source": [
    "for num in range(5):\n",
    "   print(num)"
   ]
  },
  {
   "cell_type": "code",
   "execution_count": 6,
   "id": "8dedec61",
   "metadata": {},
   "outputs": [
    {
     "name": "stdout",
     "output_type": "stream",
     "text": [
      "2\n",
      "7\n",
      "12\n",
      "17\n"
     ]
    }
   ],
   "source": [
    "for num2 in range(2,22,5):\n",
    "  print(num2)"
   ]
  },
  {
   "cell_type": "markdown",
   "id": "4f0e217e",
   "metadata": {},
   "source": [
    "# enumerate :  kullanılan listenin başına indeks ekliyor\n",
    "1. manuel enumerate kullanmadan kod yazma\n",
    "2. type tuple'dir."
   ]
  },
  {
   "cell_type": "code",
   "execution_count": 9,
   "id": "cd205bae",
   "metadata": {},
   "outputs": [
    {
     "name": "stdout",
     "output_type": "stream",
     "text": [
      "güncel numara: 5 güncel index: 0\n",
      "güncel numara: 6 güncel index: 0\n",
      "güncel numara: 7 güncel index: 0\n",
      "güncel numara: 8 güncel index: 0\n",
      "güncel numara: 9 güncel index: 0\n",
      "güncel numara: 10 güncel index: 0\n",
      "güncel numara: 11 güncel index: 0\n",
      "güncel numara: 12 güncel index: 0\n",
      "güncel numara: 13 güncel index: 0\n",
      "güncel numara: 14 güncel index: 0\n"
     ]
    }
   ],
   "source": [
    "index=0\n",
    "for numara in list(range(5,15)):\n",
    "   print(f\"güncel numara: {numara} güncel index: {index}\")\n",
    "   index++1"
   ]
  },
  {
   "cell_type": "code",
   "execution_count": 12,
   "id": "fd1f363c",
   "metadata": {},
   "outputs": [
    {
     "name": "stdout",
     "output_type": "stream",
     "text": [
      "(0, 5)\n",
      "(1, 8)\n",
      "(2, 11)\n",
      "(3, 14)\n"
     ]
    }
   ],
   "source": [
    "for eleman in enumerate(list(range(5,15,3))):\n",
    "    print(eleman)"
   ]
  },
  {
   "cell_type": "code",
   "execution_count": 14,
   "id": "9cfc8d00",
   "metadata": {},
   "outputs": [
    {
     "name": "stdout",
     "output_type": "stream",
     "text": [
      "0\n",
      "1\n",
      "2\n",
      "3\n"
     ]
    }
   ],
   "source": [
    "for (indexSirasi,deger) in enumerate(list(range(5,15,3))): #tuple old. için\n",
    "    print(indexSirasi)"
   ]
  },
  {
   "cell_type": "markdown",
   "id": "2707869b",
   "metadata": {},
   "source": [
    "# random rastgele değer oluşturmak"
   ]
  },
  {
   "cell_type": "code",
   "execution_count": 15,
   "id": "a868eb69",
   "metadata": {},
   "outputs": [],
   "source": [
    "from random import randint"
   ]
  },
  {
   "cell_type": "code",
   "execution_count": 17,
   "id": "0c10dffe",
   "metadata": {},
   "outputs": [
    {
     "data": {
      "text/plain": [
       "90"
      ]
     },
     "execution_count": 17,
     "metadata": {},
     "output_type": "execute_result"
    }
   ],
   "source": [
    "randint(5,150)"
   ]
  },
  {
   "cell_type": "code",
   "execution_count": 25,
   "id": "c9263bd4",
   "metadata": {
    "scrolled": true
   },
   "outputs": [
    {
     "data": {
      "text/plain": [
       "[9, 5, 8, 2, 1, 0, 7, 6, 4, 3]"
      ]
     },
     "execution_count": 25,
     "metadata": {},
     "output_type": "execute_result"
    }
   ],
   "source": [
    "yeniListe=list(range(0,10))\n",
    "\n",
    "from random import shuffle #shuffle karıştırma \n",
    "\n",
    "shuffle(yeniListe)\n",
    "yeniListe\n"
   ]
  },
  {
   "cell_type": "markdown",
   "id": "3ef280f7",
   "metadata": {},
   "source": [
    "# zip = birden fazla listeyi indekslerini sırası ile birleştirmeye yarar."
   ]
  },
  {
   "cell_type": "code",
   "execution_count": 27,
   "id": "e4adb89b",
   "metadata": {},
   "outputs": [],
   "source": [
    "yemekListesi=[\"muz\",\"ananas\",\"elma\"]\n",
    "kaloriListesi=[100,200,300]\n",
    "gunListesi=[\"pazartesi\",\"salı\",\"çarşamba\"]"
   ]
  },
  {
   "cell_type": "code",
   "execution_count": 30,
   "id": "644f2788",
   "metadata": {},
   "outputs": [],
   "source": [
    "ziplenmisListe=list(zip(yemekListesi,kaloriListesi,gunListesi))"
   ]
  },
  {
   "cell_type": "code",
   "execution_count": 31,
   "id": "b45f1ebf",
   "metadata": {},
   "outputs": [
    {
     "name": "stdout",
     "output_type": "stream",
     "text": [
      "<class 'tuple'>\n",
      "<class 'tuple'>\n",
      "<class 'tuple'>\n"
     ]
    }
   ],
   "source": [
    "for eleman in ziplenmisListe:\n",
    "    print(type(eleman))"
   ]
  },
  {
   "cell_type": "code",
   "execution_count": 32,
   "id": "fcc19f36",
   "metadata": {},
   "outputs": [
    {
     "data": {
      "text/plain": [
       "[('muz', 100, 'pazartesi'), ('ananas', 200, 'salı'), ('elma', 300, 'çarşamba')]"
      ]
     },
     "execution_count": 32,
     "metadata": {},
     "output_type": "execute_result"
    }
   ],
   "source": [
    "ziplenmisListe"
   ]
  },
  {
   "cell_type": "markdown",
   "id": "01df13ce",
   "metadata": {},
   "source": [
    "# listeler ileri seviye"
   ]
  },
  {
   "cell_type": "code",
   "execution_count": 33,
   "id": "36e2741b",
   "metadata": {},
   "outputs": [],
   "source": [
    "listeOrnegi=[]\n",
    "benimString=\"atıl samancıoğlu\"\n",
    "\n",
    "for harf in benimString:\n",
    "    listeOrnegi.append(harf)"
   ]
  },
  {
   "cell_type": "code",
   "execution_count": 34,
   "id": "addafc52",
   "metadata": {},
   "outputs": [
    {
     "data": {
      "text/plain": [
       "['a',\n",
       " 't',\n",
       " 'ı',\n",
       " 'l',\n",
       " ' ',\n",
       " 's',\n",
       " 'a',\n",
       " 'm',\n",
       " 'a',\n",
       " 'n',\n",
       " 'c',\n",
       " 'ı',\n",
       " 'o',\n",
       " 'ğ',\n",
       " 'l',\n",
       " 'u']"
      ]
     },
     "execution_count": 34,
     "metadata": {},
     "output_type": "execute_result"
    }
   ],
   "source": [
    "listeOrnegi"
   ]
  },
  {
   "cell_type": "code",
   "execution_count": 35,
   "id": "45dfdd86",
   "metadata": {},
   "outputs": [],
   "source": [
    "yeniString=\"atıl samancıoğlu\""
   ]
  },
  {
   "cell_type": "code",
   "execution_count": 36,
   "id": "0f79fcdb",
   "metadata": {},
   "outputs": [
    {
     "data": {
      "text/plain": [
       "['a',\n",
       " 't',\n",
       " 'ı',\n",
       " 'l',\n",
       " ' ',\n",
       " 's',\n",
       " 'a',\n",
       " 'm',\n",
       " 'a',\n",
       " 'n',\n",
       " 'c',\n",
       " 'ı',\n",
       " 'o',\n",
       " 'ğ',\n",
       " 'l',\n",
       " 'u']"
      ]
     },
     "execution_count": 36,
     "metadata": {},
     "output_type": "execute_result"
    }
   ],
   "source": [
    "yeniListeOrnegi=[eleman for eleman in yeniString]\n",
    "yeniListeOrnegi"
   ]
  },
  {
   "cell_type": "code",
   "execution_count": null,
   "id": "33b6431d",
   "metadata": {},
   "outputs": [],
   "source": []
  }
 ],
 "metadata": {
  "kernelspec": {
   "display_name": "Python 3 (ipykernel)",
   "language": "python",
   "name": "python3"
  },
  "language_info": {
   "codemirror_mode": {
    "name": "ipython",
    "version": 3
   },
   "file_extension": ".py",
   "mimetype": "text/x-python",
   "name": "python",
   "nbconvert_exporter": "python",
   "pygments_lexer": "ipython3",
   "version": "3.9.7"
  }
 },
 "nbformat": 4,
 "nbformat_minor": 5
}
